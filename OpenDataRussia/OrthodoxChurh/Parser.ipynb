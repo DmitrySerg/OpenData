{
 "cells": [
  {
   "cell_type": "code",
   "execution_count": 52,
   "metadata": {},
   "outputs": [
    {
     "name": "stdout",
     "output_type": "stream",
     "text": [
      "[master a7fca36] map objects\n",
      " 1 file changed, 137 insertions(+), 33 deletions(-)\n",
      "Counting objects: 5, done.\n",
      "Delta compression using up to 4 threads.\n",
      "Compressing objects: 100% (3/3), done.\n",
      "Writing objects: 100% (5/5), 1.15 KiB | 0 bytes/s, done.\n",
      "Total 5 (delta 2), reused 0 (delta 0)\n",
      "remote: Resolving deltas: 100% (2/2), completed with 2 local objects.\u001b[K\n",
      "To https://github.com/DmitrySerg/OpenData\n",
      "   0c17a7d..a7fca36  master -> master\n"
     ]
    }
   ],
   "source": [
    "!git add Parser.ipynb\n",
    "!git commit -m \"map objects\"\n",
    "!git push"
   ]
  },
  {
   "cell_type": "markdown",
   "metadata": {},
   "source": [
    "## Цель\n",
    "- Собрать базу открытых данных с сайта Московской патриархии о персоналиях, организациях, богослужебных указаниях и храмах, структурировать их и загрузить в хаб открытых данных\n",
    "\n",
    "## Задача\n",
    "- проинвентаризировать данные на сайте Московской патриархии\n",
    "- написать парсеры и выгрузить данные в форматах CSV и JSON\n",
    "- загрузить данные в хаб открытых данных http://hubofdata.ru в удобном виде.\n",
    "## Требования\n",
    "- открытый исходный код в Github под свободной лицензией\n",
    "- межплатформенный код (возможность запуска на Linux/Windows)\n",
    "- предусмотреть перенос всех метаданных в CKAN в виде тегов и атрибутов\n",
    "- переносить все данные в CKAN или на отдельный хостинг (например, в Github)\n",
    "## Данные\n",
    "- Персоналии - http://www.patriarchia.ru/db/persons/\n",
    "- Организации - http://www.patriarchia.ru/db/organizations/\n",
    "- Богослужебные указания - http://www.patriarchia.ru/bu/\n",
    "- Храмы - http://map.patriarhia.ru/\n",
    "## Пожелания\n",
    "- реализация в виде программы командной строки или веб-приложения\n",
    "- возможность запуска на MacOSX\n",
    "- использовать скриптовые языки такие как Python, Perl, R и другие."
   ]
  },
  {
   "cell_type": "code",
   "execution_count": 1,
   "metadata": {
    "collapsed": true
   },
   "outputs": [],
   "source": [
    "import requests      \n",
    "import numpy as np   \n",
    "import pandas as pd  \n",
    "import time          \n",
    "from bs4 import BeautifulSoup\n",
    "\n",
    "import os\n",
    "import json\n",
    "import string\n",
    "\n",
    "from tqdm import tqdm_notebook"
   ]
  },
  {
   "cell_type": "code",
   "execution_count": 2,
   "metadata": {
    "collapsed": true
   },
   "outputs": [],
   "source": [
    "main_link = \"http://www.patriarchia.ru\"\n",
    "link_persons = \"http://www.patriarchia.ru/db/persons/\"\n",
    "link_organizations = \"http://www.patriarchia.ru/db/organizations/\"\n",
    "link_guidance = \"http://www.patriarchia.ru/bu/\"\n",
    "link_churches = \"http://map.patriarhia.ru/\"\n",
    "\n",
    "file_path = os.getcwd() + \"/data/{}\""
   ]
  },
  {
   "cell_type": "code",
   "execution_count": 3,
   "metadata": {
    "code_folding": [
     97,
     148,
     178
    ],
    "collapsed": true
   },
   "outputs": [],
   "source": [
    "class Parser:\n",
    "    \n",
    "    def __init__(self):\n",
    "        pass\n",
    "    \n",
    "    def getSoup(self, link):\n",
    "        \"\"\"\n",
    "            Returns bs4-formatted page\n",
    "        \"\"\"\n",
    "        html = requests.get(link)\n",
    "        if html.status_code == 200:\n",
    "            soup = BeautifulSoup(html.content, 'lxml')\n",
    "        else:\n",
    "            soup = None\n",
    "        return soup\n",
    "    \n",
    "    def getAllLinks(self, dataset_type, url=None):\n",
    "        \"\"\"\n",
    "            Returns a list with names, links and affiliations for persons and organizations\n",
    "            or dates for guidance\n",
    "\n",
    "            dataset_type: string\n",
    "                persons/organizations/guidance\n",
    "                \n",
    "            url: string\n",
    "                url to parse data from\n",
    "        \"\"\"\n",
    "        \n",
    "        if dataset_type=='guidance':\n",
    "            datelist = pd.date_range(\n",
    "                pd.to_datetime(start_date), end=pd.to_datetime(end_date)\n",
    "            ).tolist()\n",
    "            datelist = [date.strftime(\"%Y-%m-%d\") for date in datelist]\n",
    "            return datelist\n",
    "\n",
    "        links = getSoup(url)\n",
    "        links = links.find('div', attrs={\"class\":\"main\"})\n",
    "        links = links.findAll('div', attrs={'class':'news'})\n",
    "\n",
    "        dfLinks = []\n",
    "        for link in links:\n",
    "            name = link.find('h4').text\n",
    "            linkParsed = main_link + link.find('a')['href']\n",
    "            affiliation = link.find('div').text\n",
    "            dfLinks.append({\"name\":name, \"link\":linkParsed, \"affiliation\":affiliation})\n",
    "\n",
    "        return dfLinks\n",
    "\n",
    "    def getPageData(link):\n",
    "        \"\"\"\n",
    "            Returns a dict with parsed field:value pairs from page\n",
    "\n",
    "            link: string\n",
    "                link to page\n",
    "        \"\"\"\n",
    "\n",
    "        data = {}\n",
    "\n",
    "        # use printing version of page \n",
    "        link = link.replace(\"text\", \"print\")\n",
    "\n",
    "        # first - get the page content\n",
    "        pageContent = getSoup(link)\n",
    "\n",
    "        # trying to find any images\n",
    "        try:\n",
    "            image_link = pageContent.find('div', attrs={'class':'news_img'})\n",
    "            image_link = image_link.find('img')['src']\n",
    "            data.update({'image_link':image_link})\n",
    "        except:\n",
    "            pass\n",
    "\n",
    "        # now concentrate on text\n",
    "        pageContent = pageContent.find('div', attrs={'class':'main'})\n",
    "        pageContent = pageContent.findAll(\"dl\")\n",
    "\n",
    "        # second - find all field-value pairs on page\n",
    "        for text in pageContent:        \n",
    "            number_of_fields = len(text.findAll('dt'))*2-1\n",
    "            if number_of_fields>0:\n",
    "                parsedFields = []\n",
    "                currentValue = text.find('dt')\n",
    "                parsedFields.append(' '.join(currentValue.findAll(text=True)).strip().replace(u'\\xa0', u' '))\n",
    "\n",
    "                while number_of_fields>0:\n",
    "                    currentValue = currentValue.nextSibling\n",
    "                    if currentValue != '\\n':\n",
    "                        value = ' '.join(currentValue.findAll(text=True)).strip().replace(u'\\xa0', u' ')\n",
    "                        if value:\n",
    "                            parsedFields.append(value)\n",
    "                            number_of_fields -= 1\n",
    "\n",
    "                text = dict(zip(parsedFields[::2], parsedFields[1::2]))\n",
    "                data.update(text)\n",
    "\n",
    "        return data\n",
    "    \n",
    "    def getGuidanceData(date):\n",
    "        \"\"\"\n",
    "            Returns dict with name:text pair for particular day\n",
    "        \"\"\"\n",
    "        link = link_guidance + date + '/print.html'\n",
    "        pageContent = getSoup(link)\n",
    "        pageContent = pageContent.find('div', attrs={'class':'main'})\n",
    "        pageContent = pageContent.findAll('p')\n",
    "\n",
    "        name = pageContent[0].getText().strip()\n",
    "        pageContent = [paragraph.getText() for paragraph in pageContent[1:]]\n",
    "        text = \"\\n\".join(pageContent)\n",
    "        data = {'date':date, 'name':name, 'text':text}\n",
    "\n",
    "        return data\n",
    "    \n",
    "    def saveDataFrame(self, final, dataset_type):\n",
    "        \"\"\"\n",
    "            Save final file into csv and json files\n",
    "            \n",
    "            final: list\n",
    "                parsed data from pages\n",
    "                \n",
    "            dataset_type: string\n",
    "                persons or organizations\n",
    "        \"\"\"\n",
    "        \n",
    "        df = pd.DataFrame(final)\n",
    "        df.columns = df.columns.str.strip(':')\n",
    "        \n",
    "        if dataset_type==\"persons\":\n",
    "            csv_path = file_path.format(\"persons.csv\")\n",
    "            json_path = file_path.format(\"persons.json\")\n",
    "            column_names = ['name','affiliation','Страна','Дата рождения', \n",
    "                           'Дата пострига','Дата хиротонии', 'Дата смерти',\n",
    "                           'День ангела', 'Епархия', 'Место работы', 'Образование', \n",
    "                           'Биография', 'Награды', 'Научные труды, публикации', \n",
    "                           'E-mail', 'Web-сайт', 'link', 'image_link']\n",
    "            df = df[column_names]\n",
    "        elif dataset_type==\"organizations\":\n",
    "            csv_path = file_path.format(\"organizations.csv\")\n",
    "            json_path = file_path.format(\"organizations.json\")\n",
    "        else:\n",
    "            csv_path = file_path.format(\"guidance.csv\")\n",
    "            json_path = file_path.format(\"guidance.json\")\n",
    "        \n",
    "        df.to_csv(csv_path, encoding='utf8')\n",
    "        df.to_json(json_path)\n",
    "            \n",
    "            \n",
    "            \n",
    "    def runCrawler(self, links_data, dataset_type='other'):\n",
    "        \"\"\"\n",
    "            Iterate over all links in links_data and return final dataset\n",
    "            \n",
    "            links_data: list\n",
    "                list with links to pages\n",
    "            \n",
    "            dataset_type: string\n",
    "                guidance or other\n",
    "        \"\"\"\n",
    "        final = []\n",
    "\n",
    "        for page in tqdm_notebook(links_data):\n",
    "            try:\n",
    "                if dataset_type=='guidance':\n",
    "                    currentDateData = self.getGuidanceData(page)\n",
    "                    final.append(currentDateData)\n",
    "                else:\n",
    "                    data = self.getPageData(page['link'])\n",
    "                    page.update(data)\n",
    "                    final.append(page)\n",
    "                time.sleep(0.5)\n",
    "            except Exception as e:\n",
    "                # print(e)                           # DEBUG\n",
    "                # print('problem',  person['link'])  # DEBUG\n",
    "                time.sleep(30)\n",
    "                \n",
    "        return final\n",
    "        \n",
    "    \n",
    "    def runParsing(self, dataset_type):\n",
    "        \n",
    "        if dataset_type=='persons':\n",
    "            link = link_persons\n",
    "        elif dataset_type=='organizations':\n",
    "            link = link_organizations\n",
    "        else:\n",
    "            pass\n",
    "        \n",
    "        allLinks = self.getAllLinks(dataset_type, link)\n",
    "        data = self.runCrawler(allLinks, dataset_type)\n",
    "        self.saveDataFrame(data, dataset_type)"
   ]
  },
  {
   "cell_type": "code",
   "execution_count": 451,
   "metadata": {},
   "outputs": [
    {
     "data": {
      "application/vnd.jupyter.widget-view+json": {
       "model_id": "cdfa898619ba44c0bbb450b93828b193"
      }
     },
     "metadata": {},
     "output_type": "display_data"
    },
    {
     "name": "stdout",
     "output_type": "stream",
     "text": [
      "\n"
     ]
    }
   ],
   "source": [
    "parser = Parser()\n",
    "parser.runParsing('persons')"
   ]
  },
  {
   "cell_type": "code",
   "execution_count": 4,
   "metadata": {
    "code_folding": [
     0,
     11,
     32
    ],
    "collapsed": true
   },
   "outputs": [],
   "source": [
    "def getSoup(link):\n",
    "    \"\"\"\n",
    "        Returns bs4-formatted page\n",
    "    \"\"\"\n",
    "    html = requests.get(link)\n",
    "    if html.status_code == 200:\n",
    "        soup = BeautifulSoup(html.content, 'lxml')\n",
    "    else:\n",
    "        soup = None\n",
    "    return soup\n",
    "\n",
    "def getAllLinks(url):\n",
    "    \"\"\"\n",
    "        Returns a list with names, links and affiliations    \n",
    "        \n",
    "        url: string\n",
    "            url to parse data from\n",
    "    \"\"\"\n",
    "    \n",
    "    links = getSoup(url)\n",
    "    links = links.find('div', attrs={\"class\":\"main\"})\n",
    "    links = links.findAll('div', attrs={'class':'news'})\n",
    "    \n",
    "    dfLinks = []\n",
    "    for link in links:\n",
    "        name = link.find('h4').text\n",
    "        linkParsed = main_link + link.find('a')['href']\n",
    "        affiliation = link.find('div').text\n",
    "        dfLinks.append({\"name\":name, \"link\":linkParsed, \"affiliation\":affiliation})\n",
    "        \n",
    "    return dfLinks\n",
    "\n",
    "def getPageData(link):\n",
    "    \"\"\"\n",
    "        Returns a dict with parsed field:value pairs from page\n",
    "    \n",
    "        link: string\n",
    "            link to page\n",
    "    \"\"\"\n",
    "    \n",
    "    data = {}\n",
    "    \n",
    "    # use printing version of page \n",
    "    if 'text' in link:\n",
    "        link = link.replace(\"text\", \"print\")\n",
    "    \n",
    "    # first - get the page content\n",
    "    pageContent = getSoup(link)\n",
    "    \n",
    "    # trying to find any images\n",
    "    try:\n",
    "        image_link = pageContent.find('div', attrs={'class':'news_img'})\n",
    "        image_link = image_link.find('img')['src']\n",
    "        data.update({'image_link':image_link})\n",
    "    except:\n",
    "        pass\n",
    "    \n",
    "    # now concentrate on text\n",
    "    pageContent = pageContent.find('div', attrs={'class':'main'})\n",
    "    pageContent = pageContent.findAll(\"dl\")\n",
    "\n",
    "    # second - find all field-value pairs on page\n",
    "    for text in pageContent:        \n",
    "        number_of_fields = len(text.findAll('dt'))*2-1\n",
    "        if number_of_fields>0:\n",
    "            parsedFields = []\n",
    "            currentValue = text.find('dt')\n",
    "            parsedFields.append(' '.join(currentValue.findAll(text=True)).strip().replace(u'\\xa0', u' '))\n",
    "\n",
    "            while number_of_fields>0:\n",
    "                currentValue = currentValue.nextSibling\n",
    "                if currentValue != '\\n':\n",
    "                    value = ' '.join(currentValue.findAll(text=True)).strip().replace(u'\\xa0', u' ')\n",
    "                    if value:\n",
    "                        parsedFields.append(value)\n",
    "                        number_of_fields -= 1\n",
    "\n",
    "            text = dict(zip(parsedFields[::2], parsedFields[1::2]))\n",
    "            data.update(text)\n",
    "            \n",
    "    return data"
   ]
  },
  {
   "cell_type": "code",
   "execution_count": 440,
   "metadata": {},
   "outputs": [
    {
     "data": {
      "application/vnd.jupyter.widget-view+json": {
       "model_id": "0f9d4d751f29491aacaefea47cbd1c6c"
      }
     },
     "metadata": {},
     "output_type": "display_data"
    },
    {
     "name": "stdout",
     "output_type": "stream",
     "text": [
      "\n",
      "\n"
     ]
    }
   ],
   "source": [
    "final = []\n",
    "for page in tqdm_notebook(dfOrganizations):\n",
    "    try:\n",
    "        data = getPageData(page['link'])\n",
    "        page.update(data)\n",
    "        final.append(page)\n",
    "        time.sleep(0.6)\n",
    "    except Exception as e:\n",
    "        # print(e)                           # DEBUG\n",
    "        # print('problem',  person['link'])  # DEBUG\n",
    "        time.sleep(30)"
   ]
  },
  {
   "cell_type": "code",
   "execution_count": 497,
   "metadata": {
    "collapsed": true
   },
   "outputs": [],
   "source": [
    "start_date = '2009-01-14'\n",
    "end_date = '2019-01-13'"
   ]
  },
  {
   "cell_type": "code",
   "execution_count": 505,
   "metadata": {},
   "outputs": [
    {
     "data": {
      "application/vnd.jupyter.widget-view+json": {
       "model_id": "3aab705e94e642cdad17660996a5dde9"
      }
     },
     "metadata": {},
     "output_type": "display_data"
    },
    {
     "name": "stdout",
     "output_type": "stream",
     "text": [
      "'NoneType' object has no attribute 'find'\n",
      "problem http://www.patriarchia.ru/db/text/80876.html\n",
      "'NoneType' object has no attribute 'find'\n",
      "problem http://www.patriarchia.ru/db/text/80876.html\n",
      "\n"
     ]
    }
   ],
   "source": [
    "final = []\n",
    "for date in tqdm_notebook(datelist):\n",
    "    try:\n",
    "        currentDateData = getGuidanceData(date)\n",
    "        final.append(currentDateData)\n",
    "        time.sleep(0.5)\n",
    "    except Exception as e:\n",
    "        print(e)                           # DEBUG\n",
    "        print('problem',  date)  # DEBUG\n",
    "        time.sleep(30)"
   ]
  },
  {
   "cell_type": "code",
   "execution_count": 506,
   "metadata": {
    "collapsed": true
   },
   "outputs": [],
   "source": [
    "df = pd.DataFrame(final)"
   ]
  },
  {
   "cell_type": "code",
   "execution_count": 513,
   "metadata": {},
   "outputs": [
    {
     "data": {
      "text/html": [
       "<div>\n",
       "<style>\n",
       "    .dataframe thead tr:only-child th {\n",
       "        text-align: right;\n",
       "    }\n",
       "\n",
       "    .dataframe thead th {\n",
       "        text-align: left;\n",
       "    }\n",
       "\n",
       "    .dataframe tbody tr th {\n",
       "        vertical-align: top;\n",
       "    }\n",
       "</style>\n",
       "<table border=\"1\" class=\"dataframe\">\n",
       "  <thead>\n",
       "    <tr style=\"text-align: right;\">\n",
       "      <th></th>\n",
       "      <th>name</th>\n",
       "      <th>text</th>\n",
       "    </tr>\n",
       "  </thead>\n",
       "  <tbody>\n",
       "    <tr>\n",
       "      <th>0</th>\n",
       "      <td>Среда. Обре́зание Господне. Свт. Василия Велик...</td>\n",
       "      <td>Примечание. В Типиконе сказано: «А́ще храм свя...</td>\n",
       "    </tr>\n",
       "    <tr>\n",
       "      <th>1</th>\n",
       "      <td>Четверг. Предпразднство Богоявления. Прп. Сера...</td>\n",
       "      <td>Свт. Сильве́стра, папы Римского. Прав. Иулиани...</td>\n",
       "    </tr>\n",
       "    <tr>\n",
       "      <th>2</th>\n",
       "      <td>Пятница. Предпразднство Богоявления. Прор. Мал...</td>\n",
       "      <td>Служба прор. Малахии и мч. Гордия не имеет пра...</td>\n",
       "    </tr>\n",
       "    <tr>\n",
       "      <th>3</th>\n",
       "      <td>Суббота пред Богоявлением. Предпразднство Бого...</td>\n",
       "      <td>Свт. Евста́фия, архиеп. Сербского.\\nПрп. Ахи́л...</td>\n",
       "    </tr>\n",
       "    <tr>\n",
       "      <th>4</th>\n",
       "      <td>Неделя 31-я по Пятидесятнице, пред Богоявление...</td>\n",
       "      <td>Прп. Синклитики́и Александрийской.\\nВоскресная...</td>\n",
       "    </tr>\n",
       "  </tbody>\n",
       "</table>\n",
       "</div>"
      ],
      "text/plain": [
       "                                                name  \\\n",
       "0  Среда. Обре́зание Господне. Свт. Василия Велик...   \n",
       "1  Четверг. Предпразднство Богоявления. Прп. Сера...   \n",
       "2  Пятница. Предпразднство Богоявления. Прор. Мал...   \n",
       "3  Суббота пред Богоявлением. Предпразднство Бого...   \n",
       "4  Неделя 31-я по Пятидесятнице, пред Богоявление...   \n",
       "\n",
       "                                                text  \n",
       "0  Примечание. В Типиконе сказано: «А́ще храм свя...  \n",
       "1  Свт. Сильве́стра, папы Римского. Прав. Иулиани...  \n",
       "2  Служба прор. Малахии и мч. Гордия не имеет пра...  \n",
       "3  Свт. Евста́фия, архиеп. Сербского.\\nПрп. Ахи́л...  \n",
       "4  Прп. Синклитики́и Александрийской.\\nВоскресная...  "
      ]
     },
     "execution_count": 513,
     "metadata": {},
     "output_type": "execute_result"
    }
   ],
   "source": [
    "df.head()"
   ]
  },
  {
   "cell_type": "code",
   "execution_count": 508,
   "metadata": {
    "collapsed": true
   },
   "outputs": [],
   "source": [
    "df.to_csv('data/guidance.csv', encoding='utf8')\n",
    "df.to_json('data/guidance.json')"
   ]
  },
  {
   "cell_type": "code",
   "execution_count": 5,
   "metadata": {
    "collapsed": true
   },
   "outputs": [],
   "source": [
    "def getGuidanceData(date):\n",
    "    \"\"\"\n",
    "        Returns dict with name:text pair for particular day\n",
    "    \"\"\"\n",
    "    link = link_guidance + date + '/print.html'\n",
    "    pageContent = getSoup(link)\n",
    "    pageContent = pageContent.find('div', attrs={'class':'main'})\n",
    "    pageContent = pageContent.findAll('p')\n",
    "    \n",
    "    name = pageContent[0].getText().strip()\n",
    "    pageContent = [paragraph.getText() for paragraph in pageContent[1:]]\n",
    "    text = \"\\n\".join(pageContent)\n",
    "    data = {'date':date, 'name':name, 'text':text}\n",
    "    \n",
    "    return data"
   ]
  },
  {
   "cell_type": "markdown",
   "metadata": {},
   "source": [
    "http://map.patriarhia.ru/api/index.php?token=c2cbe8cd873f8e4751a7f7bb5292e68a&country=ru&church=&ctype=0&t=0&s=&params=[]&_=1530217371426\n",
    "\n",
    "http://map.patriarhia.ru/?infoid=13502"
   ]
  },
  {
   "cell_type": "code",
   "execution_count": 53,
   "metadata": {
    "collapsed": true
   },
   "outputs": [],
   "source": [
    "link_map_objects = 'http://map.patriarhia.ru/api/index.php?token=c2cbe8cd873f8e4751a7f7bb5292e68a&s=&params=[]&_=1530217371426'"
   ]
  },
  {
   "cell_type": "code",
   "execution_count": 55,
   "metadata": {
    "collapsed": true
   },
   "outputs": [],
   "source": [
    "map_objects = requests.get(link_map_objects)\n",
    "map_objects = map_objects.content\n",
    "map_objects = json.loads(map_objects)"
   ]
  },
  {
   "cell_type": "code",
   "execution_count": 210,
   "metadata": {
    "scrolled": true
   },
   "outputs": [
    {
     "data": {
      "application/vnd.jupyter.widget-view+json": {
       "model_id": "2b3cac3c4526467b83f9bc43d7fb0242"
      }
     },
     "metadata": {},
     "output_type": "display_data"
    },
    {
     "name": "stdout",
     "output_type": "stream",
     "text": [
      "\n"
     ]
    },
    {
     "ename": "KeyboardInterrupt",
     "evalue": "",
     "output_type": "error",
     "traceback": [
      "\u001b[0;31m---------------------------------------------------------------------------\u001b[0m",
      "\u001b[0;31mTypeError\u001b[0m                                 Traceback (most recent call last)",
      "\u001b[0;32m~/anaconda/lib/python3.6/site-packages/urllib3/connectionpool.py\u001b[0m in \u001b[0;36m_make_request\u001b[0;34m(self, conn, method, url, timeout, chunked, **httplib_request_kw)\u001b[0m\n\u001b[1;32m    379\u001b[0m             \u001b[0;32mtry\u001b[0m\u001b[0;34m:\u001b[0m  \u001b[0;31m# Python 2.7, use buffering of HTTP responses\u001b[0m\u001b[0;34m\u001b[0m\u001b[0m\n\u001b[0;32m--> 380\u001b[0;31m                 \u001b[0mhttplib_response\u001b[0m \u001b[0;34m=\u001b[0m \u001b[0mconn\u001b[0m\u001b[0;34m.\u001b[0m\u001b[0mgetresponse\u001b[0m\u001b[0;34m(\u001b[0m\u001b[0mbuffering\u001b[0m\u001b[0;34m=\u001b[0m\u001b[0;32mTrue\u001b[0m\u001b[0;34m)\u001b[0m\u001b[0;34m\u001b[0m\u001b[0m\n\u001b[0m\u001b[1;32m    381\u001b[0m             \u001b[0;32mexcept\u001b[0m \u001b[0mTypeError\u001b[0m\u001b[0;34m:\u001b[0m  \u001b[0;31m# Python 2.6 and older, Python 3\u001b[0m\u001b[0;34m\u001b[0m\u001b[0m\n",
      "\u001b[0;31mTypeError\u001b[0m: getresponse() got an unexpected keyword argument 'buffering'",
      "\nDuring handling of the above exception, another exception occurred:\n",
      "\u001b[0;31mKeyboardInterrupt\u001b[0m                         Traceback (most recent call last)",
      "\u001b[0;32m<ipython-input-210-2caa0a14e8d4>\u001b[0m in \u001b[0;36m<module>\u001b[0;34m()\u001b[0m\n\u001b[1;32m      2\u001b[0m \u001b[0;32mfor\u001b[0m \u001b[0mcurrent_object\u001b[0m \u001b[0;32min\u001b[0m \u001b[0mtqdm_notebook\u001b[0m\u001b[0;34m(\u001b[0m\u001b[0mmap_objects\u001b[0m\u001b[0;34m[\u001b[0m\u001b[0;34m'features'\u001b[0m\u001b[0;34m]\u001b[0m\u001b[0;34m)\u001b[0m\u001b[0;34m:\u001b[0m\u001b[0;34m\u001b[0m\u001b[0m\n\u001b[1;32m      3\u001b[0m     \u001b[0;32mtry\u001b[0m\u001b[0;34m:\u001b[0m\u001b[0;34m\u001b[0m\u001b[0m\n\u001b[0;32m----> 4\u001b[0;31m         \u001b[0mobject_data\u001b[0m \u001b[0;34m=\u001b[0m \u001b[0mgetMapObjectData\u001b[0m\u001b[0;34m(\u001b[0m\u001b[0mcurrent_object\u001b[0m\u001b[0;34m)\u001b[0m\u001b[0;34m\u001b[0m\u001b[0m\n\u001b[0m\u001b[1;32m      5\u001b[0m         \u001b[0mfinal\u001b[0m\u001b[0;34m.\u001b[0m\u001b[0mappend\u001b[0m\u001b[0;34m(\u001b[0m\u001b[0mobject_data\u001b[0m\u001b[0;34m)\u001b[0m\u001b[0;34m\u001b[0m\u001b[0m\n\u001b[1;32m      6\u001b[0m         \u001b[0mtime\u001b[0m\u001b[0;34m.\u001b[0m\u001b[0msleep\u001b[0m\u001b[0;34m(\u001b[0m\u001b[0;36m0.5\u001b[0m\u001b[0;34m)\u001b[0m\u001b[0;34m\u001b[0m\u001b[0m\n",
      "\u001b[0;32m<ipython-input-200-7b81ee167265>\u001b[0m in \u001b[0;36mgetMapObjectData\u001b[0;34m(current_object)\u001b[0m\n\u001b[1;32m     16\u001b[0m     \u001b[0mcurrent_link\u001b[0m \u001b[0;34m=\u001b[0m \u001b[0;34m'http://map.patriarhia.ru/?infoid={}'\u001b[0m\u001b[0;34m.\u001b[0m\u001b[0mformat\u001b[0m\u001b[0;34m(\u001b[0m\u001b[0minfoid\u001b[0m\u001b[0;34m)\u001b[0m\u001b[0;34m\u001b[0m\u001b[0m\n\u001b[1;32m     17\u001b[0m     \u001b[0mdata\u001b[0m\u001b[0;34m.\u001b[0m\u001b[0mupdate\u001b[0m\u001b[0;34m(\u001b[0m\u001b[0;34m{\u001b[0m\u001b[0;34m\"link\"\u001b[0m\u001b[0;34m:\u001b[0m\u001b[0mcurrent_link\u001b[0m\u001b[0;34m,\u001b[0m \u001b[0;34m\"lat\"\u001b[0m\u001b[0;34m:\u001b[0m\u001b[0mlat\u001b[0m\u001b[0;34m,\u001b[0m \u001b[0;34m\"long\"\u001b[0m\u001b[0;34m:\u001b[0m\u001b[0mlong\u001b[0m\u001b[0;34m,\u001b[0m \u001b[0;34m\"name\"\u001b[0m\u001b[0;34m:\u001b[0m\u001b[0mname\u001b[0m\u001b[0;34m}\u001b[0m\u001b[0;34m)\u001b[0m\u001b[0;34m\u001b[0m\u001b[0m\n\u001b[0;32m---> 18\u001b[0;31m     \u001b[0mcurrent_object\u001b[0m \u001b[0;34m=\u001b[0m \u001b[0mgetSoup\u001b[0m\u001b[0;34m(\u001b[0m\u001b[0mcurrent_link\u001b[0m\u001b[0;34m)\u001b[0m\u001b[0;34m\u001b[0m\u001b[0m\n\u001b[0m\u001b[1;32m     19\u001b[0m     \u001b[0mcurrent_object\u001b[0m \u001b[0;34m=\u001b[0m \u001b[0mcurrent_object\u001b[0m\u001b[0;34m.\u001b[0m\u001b[0mfind\u001b[0m\u001b[0;34m(\u001b[0m\u001b[0;34m'div'\u001b[0m\u001b[0;34m,\u001b[0m \u001b[0mattrs\u001b[0m\u001b[0;34m=\u001b[0m\u001b[0;34m{\u001b[0m\u001b[0;34m'class'\u001b[0m\u001b[0;34m:\u001b[0m\u001b[0;34m'main'\u001b[0m\u001b[0;34m}\u001b[0m\u001b[0;34m)\u001b[0m\u001b[0;34m\u001b[0m\u001b[0m\n\u001b[1;32m     20\u001b[0m \u001b[0;34m\u001b[0m\u001b[0m\n",
      "\u001b[0;32m<ipython-input-4-82ffa5658e1a>\u001b[0m in \u001b[0;36mgetSoup\u001b[0;34m(link)\u001b[0m\n\u001b[1;32m      3\u001b[0m         \u001b[0mReturns\u001b[0m \u001b[0mbs4\u001b[0m\u001b[0;34m-\u001b[0m\u001b[0mformatted\u001b[0m \u001b[0mpage\u001b[0m\u001b[0;34m\u001b[0m\u001b[0m\n\u001b[1;32m      4\u001b[0m     \"\"\"\n\u001b[0;32m----> 5\u001b[0;31m     \u001b[0mhtml\u001b[0m \u001b[0;34m=\u001b[0m \u001b[0mrequests\u001b[0m\u001b[0;34m.\u001b[0m\u001b[0mget\u001b[0m\u001b[0;34m(\u001b[0m\u001b[0mlink\u001b[0m\u001b[0;34m)\u001b[0m\u001b[0;34m\u001b[0m\u001b[0m\n\u001b[0m\u001b[1;32m      6\u001b[0m     \u001b[0;32mif\u001b[0m \u001b[0mhtml\u001b[0m\u001b[0;34m.\u001b[0m\u001b[0mstatus_code\u001b[0m \u001b[0;34m==\u001b[0m \u001b[0;36m200\u001b[0m\u001b[0;34m:\u001b[0m\u001b[0;34m\u001b[0m\u001b[0m\n\u001b[1;32m      7\u001b[0m         \u001b[0msoup\u001b[0m \u001b[0;34m=\u001b[0m \u001b[0mBeautifulSoup\u001b[0m\u001b[0;34m(\u001b[0m\u001b[0mhtml\u001b[0m\u001b[0;34m.\u001b[0m\u001b[0mcontent\u001b[0m\u001b[0;34m,\u001b[0m \u001b[0;34m'lxml'\u001b[0m\u001b[0;34m)\u001b[0m\u001b[0;34m\u001b[0m\u001b[0m\n",
      "\u001b[0;32m~/anaconda/lib/python3.6/site-packages/requests/api.py\u001b[0m in \u001b[0;36mget\u001b[0;34m(url, params, **kwargs)\u001b[0m\n\u001b[1;32m     70\u001b[0m \u001b[0;34m\u001b[0m\u001b[0m\n\u001b[1;32m     71\u001b[0m     \u001b[0mkwargs\u001b[0m\u001b[0;34m.\u001b[0m\u001b[0msetdefault\u001b[0m\u001b[0;34m(\u001b[0m\u001b[0;34m'allow_redirects'\u001b[0m\u001b[0;34m,\u001b[0m \u001b[0;32mTrue\u001b[0m\u001b[0;34m)\u001b[0m\u001b[0;34m\u001b[0m\u001b[0m\n\u001b[0;32m---> 72\u001b[0;31m     \u001b[0;32mreturn\u001b[0m \u001b[0mrequest\u001b[0m\u001b[0;34m(\u001b[0m\u001b[0;34m'get'\u001b[0m\u001b[0;34m,\u001b[0m \u001b[0murl\u001b[0m\u001b[0;34m,\u001b[0m \u001b[0mparams\u001b[0m\u001b[0;34m=\u001b[0m\u001b[0mparams\u001b[0m\u001b[0;34m,\u001b[0m \u001b[0;34m**\u001b[0m\u001b[0mkwargs\u001b[0m\u001b[0;34m)\u001b[0m\u001b[0;34m\u001b[0m\u001b[0m\n\u001b[0m\u001b[1;32m     73\u001b[0m \u001b[0;34m\u001b[0m\u001b[0m\n\u001b[1;32m     74\u001b[0m \u001b[0;34m\u001b[0m\u001b[0m\n",
      "\u001b[0;32m~/anaconda/lib/python3.6/site-packages/requests/api.py\u001b[0m in \u001b[0;36mrequest\u001b[0;34m(method, url, **kwargs)\u001b[0m\n\u001b[1;32m     56\u001b[0m     \u001b[0;31m# cases, and look like a memory leak in others.\u001b[0m\u001b[0;34m\u001b[0m\u001b[0;34m\u001b[0m\u001b[0m\n\u001b[1;32m     57\u001b[0m     \u001b[0;32mwith\u001b[0m \u001b[0msessions\u001b[0m\u001b[0;34m.\u001b[0m\u001b[0mSession\u001b[0m\u001b[0;34m(\u001b[0m\u001b[0;34m)\u001b[0m \u001b[0;32mas\u001b[0m \u001b[0msession\u001b[0m\u001b[0;34m:\u001b[0m\u001b[0;34m\u001b[0m\u001b[0m\n\u001b[0;32m---> 58\u001b[0;31m         \u001b[0;32mreturn\u001b[0m \u001b[0msession\u001b[0m\u001b[0;34m.\u001b[0m\u001b[0mrequest\u001b[0m\u001b[0;34m(\u001b[0m\u001b[0mmethod\u001b[0m\u001b[0;34m=\u001b[0m\u001b[0mmethod\u001b[0m\u001b[0;34m,\u001b[0m \u001b[0murl\u001b[0m\u001b[0;34m=\u001b[0m\u001b[0murl\u001b[0m\u001b[0;34m,\u001b[0m \u001b[0;34m**\u001b[0m\u001b[0mkwargs\u001b[0m\u001b[0;34m)\u001b[0m\u001b[0;34m\u001b[0m\u001b[0m\n\u001b[0m\u001b[1;32m     59\u001b[0m \u001b[0;34m\u001b[0m\u001b[0m\n\u001b[1;32m     60\u001b[0m \u001b[0;34m\u001b[0m\u001b[0m\n",
      "\u001b[0;32m~/anaconda/lib/python3.6/site-packages/requests/sessions.py\u001b[0m in \u001b[0;36mrequest\u001b[0;34m(self, method, url, params, data, headers, cookies, files, auth, timeout, allow_redirects, proxies, hooks, stream, verify, cert, json)\u001b[0m\n\u001b[1;32m    506\u001b[0m         }\n\u001b[1;32m    507\u001b[0m         \u001b[0msend_kwargs\u001b[0m\u001b[0;34m.\u001b[0m\u001b[0mupdate\u001b[0m\u001b[0;34m(\u001b[0m\u001b[0msettings\u001b[0m\u001b[0;34m)\u001b[0m\u001b[0;34m\u001b[0m\u001b[0m\n\u001b[0;32m--> 508\u001b[0;31m         \u001b[0mresp\u001b[0m \u001b[0;34m=\u001b[0m \u001b[0mself\u001b[0m\u001b[0;34m.\u001b[0m\u001b[0msend\u001b[0m\u001b[0;34m(\u001b[0m\u001b[0mprep\u001b[0m\u001b[0;34m,\u001b[0m \u001b[0;34m**\u001b[0m\u001b[0msend_kwargs\u001b[0m\u001b[0;34m)\u001b[0m\u001b[0;34m\u001b[0m\u001b[0m\n\u001b[0m\u001b[1;32m    509\u001b[0m \u001b[0;34m\u001b[0m\u001b[0m\n\u001b[1;32m    510\u001b[0m         \u001b[0;32mreturn\u001b[0m \u001b[0mresp\u001b[0m\u001b[0;34m\u001b[0m\u001b[0m\n",
      "\u001b[0;32m~/anaconda/lib/python3.6/site-packages/requests/sessions.py\u001b[0m in \u001b[0;36msend\u001b[0;34m(self, request, **kwargs)\u001b[0m\n\u001b[1;32m    616\u001b[0m \u001b[0;34m\u001b[0m\u001b[0m\n\u001b[1;32m    617\u001b[0m         \u001b[0;31m# Send the request\u001b[0m\u001b[0;34m\u001b[0m\u001b[0;34m\u001b[0m\u001b[0m\n\u001b[0;32m--> 618\u001b[0;31m         \u001b[0mr\u001b[0m \u001b[0;34m=\u001b[0m \u001b[0madapter\u001b[0m\u001b[0;34m.\u001b[0m\u001b[0msend\u001b[0m\u001b[0;34m(\u001b[0m\u001b[0mrequest\u001b[0m\u001b[0;34m,\u001b[0m \u001b[0;34m**\u001b[0m\u001b[0mkwargs\u001b[0m\u001b[0;34m)\u001b[0m\u001b[0;34m\u001b[0m\u001b[0m\n\u001b[0m\u001b[1;32m    619\u001b[0m \u001b[0;34m\u001b[0m\u001b[0m\n\u001b[1;32m    620\u001b[0m         \u001b[0;31m# Total elapsed time of the request (approximately)\u001b[0m\u001b[0;34m\u001b[0m\u001b[0;34m\u001b[0m\u001b[0m\n",
      "\u001b[0;32m~/anaconda/lib/python3.6/site-packages/requests/adapters.py\u001b[0m in \u001b[0;36msend\u001b[0;34m(self, request, stream, timeout, verify, cert, proxies)\u001b[0m\n\u001b[1;32m    438\u001b[0m                     \u001b[0mdecode_content\u001b[0m\u001b[0;34m=\u001b[0m\u001b[0;32mFalse\u001b[0m\u001b[0;34m,\u001b[0m\u001b[0;34m\u001b[0m\u001b[0m\n\u001b[1;32m    439\u001b[0m                     \u001b[0mretries\u001b[0m\u001b[0;34m=\u001b[0m\u001b[0mself\u001b[0m\u001b[0;34m.\u001b[0m\u001b[0mmax_retries\u001b[0m\u001b[0;34m,\u001b[0m\u001b[0;34m\u001b[0m\u001b[0m\n\u001b[0;32m--> 440\u001b[0;31m                     \u001b[0mtimeout\u001b[0m\u001b[0;34m=\u001b[0m\u001b[0mtimeout\u001b[0m\u001b[0;34m\u001b[0m\u001b[0m\n\u001b[0m\u001b[1;32m    441\u001b[0m                 )\n\u001b[1;32m    442\u001b[0m \u001b[0;34m\u001b[0m\u001b[0m\n",
      "\u001b[0;32m~/anaconda/lib/python3.6/site-packages/urllib3/connectionpool.py\u001b[0m in \u001b[0;36murlopen\u001b[0;34m(self, method, url, body, headers, retries, redirect, assert_same_host, timeout, pool_timeout, release_conn, chunked, body_pos, **response_kw)\u001b[0m\n\u001b[1;32m    599\u001b[0m                                                   \u001b[0mtimeout\u001b[0m\u001b[0;34m=\u001b[0m\u001b[0mtimeout_obj\u001b[0m\u001b[0;34m,\u001b[0m\u001b[0;34m\u001b[0m\u001b[0m\n\u001b[1;32m    600\u001b[0m                                                   \u001b[0mbody\u001b[0m\u001b[0;34m=\u001b[0m\u001b[0mbody\u001b[0m\u001b[0;34m,\u001b[0m \u001b[0mheaders\u001b[0m\u001b[0;34m=\u001b[0m\u001b[0mheaders\u001b[0m\u001b[0;34m,\u001b[0m\u001b[0;34m\u001b[0m\u001b[0m\n\u001b[0;32m--> 601\u001b[0;31m                                                   chunked=chunked)\n\u001b[0m\u001b[1;32m    602\u001b[0m \u001b[0;34m\u001b[0m\u001b[0m\n\u001b[1;32m    603\u001b[0m             \u001b[0;31m# If we're going to release the connection in ``finally:``, then\u001b[0m\u001b[0;34m\u001b[0m\u001b[0;34m\u001b[0m\u001b[0m\n",
      "\u001b[0;32m~/anaconda/lib/python3.6/site-packages/urllib3/connectionpool.py\u001b[0m in \u001b[0;36m_make_request\u001b[0;34m(self, conn, method, url, timeout, chunked, **httplib_request_kw)\u001b[0m\n\u001b[1;32m    381\u001b[0m             \u001b[0;32mexcept\u001b[0m \u001b[0mTypeError\u001b[0m\u001b[0;34m:\u001b[0m  \u001b[0;31m# Python 2.6 and older, Python 3\u001b[0m\u001b[0;34m\u001b[0m\u001b[0m\n\u001b[1;32m    382\u001b[0m                 \u001b[0;32mtry\u001b[0m\u001b[0;34m:\u001b[0m\u001b[0;34m\u001b[0m\u001b[0m\n\u001b[0;32m--> 383\u001b[0;31m                     \u001b[0mhttplib_response\u001b[0m \u001b[0;34m=\u001b[0m \u001b[0mconn\u001b[0m\u001b[0;34m.\u001b[0m\u001b[0mgetresponse\u001b[0m\u001b[0;34m(\u001b[0m\u001b[0;34m)\u001b[0m\u001b[0;34m\u001b[0m\u001b[0m\n\u001b[0m\u001b[1;32m    384\u001b[0m                 \u001b[0;32mexcept\u001b[0m \u001b[0mException\u001b[0m \u001b[0;32mas\u001b[0m \u001b[0me\u001b[0m\u001b[0;34m:\u001b[0m\u001b[0;34m\u001b[0m\u001b[0m\n\u001b[1;32m    385\u001b[0m                     \u001b[0;31m# Remove the TypeError from the exception chain in Python 3;\u001b[0m\u001b[0;34m\u001b[0m\u001b[0;34m\u001b[0m\u001b[0m\n",
      "\u001b[0;32m~/anaconda/lib/python3.6/http/client.py\u001b[0m in \u001b[0;36mgetresponse\u001b[0;34m(self)\u001b[0m\n\u001b[1;32m   1329\u001b[0m         \u001b[0;32mtry\u001b[0m\u001b[0;34m:\u001b[0m\u001b[0;34m\u001b[0m\u001b[0m\n\u001b[1;32m   1330\u001b[0m             \u001b[0;32mtry\u001b[0m\u001b[0;34m:\u001b[0m\u001b[0;34m\u001b[0m\u001b[0m\n\u001b[0;32m-> 1331\u001b[0;31m                 \u001b[0mresponse\u001b[0m\u001b[0;34m.\u001b[0m\u001b[0mbegin\u001b[0m\u001b[0;34m(\u001b[0m\u001b[0;34m)\u001b[0m\u001b[0;34m\u001b[0m\u001b[0m\n\u001b[0m\u001b[1;32m   1332\u001b[0m             \u001b[0;32mexcept\u001b[0m \u001b[0mConnectionError\u001b[0m\u001b[0;34m:\u001b[0m\u001b[0;34m\u001b[0m\u001b[0m\n\u001b[1;32m   1333\u001b[0m                 \u001b[0mself\u001b[0m\u001b[0;34m.\u001b[0m\u001b[0mclose\u001b[0m\u001b[0;34m(\u001b[0m\u001b[0;34m)\u001b[0m\u001b[0;34m\u001b[0m\u001b[0m\n",
      "\u001b[0;32m~/anaconda/lib/python3.6/http/client.py\u001b[0m in \u001b[0;36mbegin\u001b[0;34m(self)\u001b[0m\n\u001b[1;32m    295\u001b[0m         \u001b[0;31m# read until we get a non-100 response\u001b[0m\u001b[0;34m\u001b[0m\u001b[0;34m\u001b[0m\u001b[0m\n\u001b[1;32m    296\u001b[0m         \u001b[0;32mwhile\u001b[0m \u001b[0;32mTrue\u001b[0m\u001b[0;34m:\u001b[0m\u001b[0;34m\u001b[0m\u001b[0m\n\u001b[0;32m--> 297\u001b[0;31m             \u001b[0mversion\u001b[0m\u001b[0;34m,\u001b[0m \u001b[0mstatus\u001b[0m\u001b[0;34m,\u001b[0m \u001b[0mreason\u001b[0m \u001b[0;34m=\u001b[0m \u001b[0mself\u001b[0m\u001b[0;34m.\u001b[0m\u001b[0m_read_status\u001b[0m\u001b[0;34m(\u001b[0m\u001b[0;34m)\u001b[0m\u001b[0;34m\u001b[0m\u001b[0m\n\u001b[0m\u001b[1;32m    298\u001b[0m             \u001b[0;32mif\u001b[0m \u001b[0mstatus\u001b[0m \u001b[0;34m!=\u001b[0m \u001b[0mCONTINUE\u001b[0m\u001b[0;34m:\u001b[0m\u001b[0;34m\u001b[0m\u001b[0m\n\u001b[1;32m    299\u001b[0m                 \u001b[0;32mbreak\u001b[0m\u001b[0;34m\u001b[0m\u001b[0m\n",
      "\u001b[0;32m~/anaconda/lib/python3.6/http/client.py\u001b[0m in \u001b[0;36m_read_status\u001b[0;34m(self)\u001b[0m\n\u001b[1;32m    256\u001b[0m \u001b[0;34m\u001b[0m\u001b[0m\n\u001b[1;32m    257\u001b[0m     \u001b[0;32mdef\u001b[0m \u001b[0m_read_status\u001b[0m\u001b[0;34m(\u001b[0m\u001b[0mself\u001b[0m\u001b[0;34m)\u001b[0m\u001b[0;34m:\u001b[0m\u001b[0;34m\u001b[0m\u001b[0m\n\u001b[0;32m--> 258\u001b[0;31m         \u001b[0mline\u001b[0m \u001b[0;34m=\u001b[0m \u001b[0mstr\u001b[0m\u001b[0;34m(\u001b[0m\u001b[0mself\u001b[0m\u001b[0;34m.\u001b[0m\u001b[0mfp\u001b[0m\u001b[0;34m.\u001b[0m\u001b[0mreadline\u001b[0m\u001b[0;34m(\u001b[0m\u001b[0m_MAXLINE\u001b[0m \u001b[0;34m+\u001b[0m \u001b[0;36m1\u001b[0m\u001b[0;34m)\u001b[0m\u001b[0;34m,\u001b[0m \u001b[0;34m\"iso-8859-1\"\u001b[0m\u001b[0;34m)\u001b[0m\u001b[0;34m\u001b[0m\u001b[0m\n\u001b[0m\u001b[1;32m    259\u001b[0m         \u001b[0;32mif\u001b[0m \u001b[0mlen\u001b[0m\u001b[0;34m(\u001b[0m\u001b[0mline\u001b[0m\u001b[0;34m)\u001b[0m \u001b[0;34m>\u001b[0m \u001b[0m_MAXLINE\u001b[0m\u001b[0;34m:\u001b[0m\u001b[0;34m\u001b[0m\u001b[0m\n\u001b[1;32m    260\u001b[0m             \u001b[0;32mraise\u001b[0m \u001b[0mLineTooLong\u001b[0m\u001b[0;34m(\u001b[0m\u001b[0;34m\"status line\"\u001b[0m\u001b[0;34m)\u001b[0m\u001b[0;34m\u001b[0m\u001b[0m\n",
      "\u001b[0;32m~/anaconda/lib/python3.6/socket.py\u001b[0m in \u001b[0;36mreadinto\u001b[0;34m(self, b)\u001b[0m\n\u001b[1;32m    584\u001b[0m         \u001b[0;32mwhile\u001b[0m \u001b[0;32mTrue\u001b[0m\u001b[0;34m:\u001b[0m\u001b[0;34m\u001b[0m\u001b[0m\n\u001b[1;32m    585\u001b[0m             \u001b[0;32mtry\u001b[0m\u001b[0;34m:\u001b[0m\u001b[0;34m\u001b[0m\u001b[0m\n\u001b[0;32m--> 586\u001b[0;31m                 \u001b[0;32mreturn\u001b[0m \u001b[0mself\u001b[0m\u001b[0;34m.\u001b[0m\u001b[0m_sock\u001b[0m\u001b[0;34m.\u001b[0m\u001b[0mrecv_into\u001b[0m\u001b[0;34m(\u001b[0m\u001b[0mb\u001b[0m\u001b[0;34m)\u001b[0m\u001b[0;34m\u001b[0m\u001b[0m\n\u001b[0m\u001b[1;32m    587\u001b[0m             \u001b[0;32mexcept\u001b[0m \u001b[0mtimeout\u001b[0m\u001b[0;34m:\u001b[0m\u001b[0;34m\u001b[0m\u001b[0m\n\u001b[1;32m    588\u001b[0m                 \u001b[0mself\u001b[0m\u001b[0;34m.\u001b[0m\u001b[0m_timeout_occurred\u001b[0m \u001b[0;34m=\u001b[0m \u001b[0;32mTrue\u001b[0m\u001b[0;34m\u001b[0m\u001b[0m\n",
      "\u001b[0;31mKeyboardInterrupt\u001b[0m: "
     ]
    }
   ],
   "source": [
    "final = []\n",
    "for current_object in tqdm_notebook(map_objects['features']):\n",
    "    try:\n",
    "        object_data = getMapObjectData(current_object)\n",
    "        final.append(object_data)\n",
    "        time.sleep(0.5)\n",
    "    except Exception as e:\n",
    "        print(e)                           # DEBUG\n",
    "        print('problem',  current_object)  # DEBUG\n",
    "        time.sleep(30)"
   ]
  },
  {
   "cell_type": "code",
   "execution_count": 212,
   "metadata": {},
   "outputs": [
    {
     "data": {
      "text/html": [
       "<div>\n",
       "<style>\n",
       "    .dataframe thead tr:only-child th {\n",
       "        text-align: right;\n",
       "    }\n",
       "\n",
       "    .dataframe thead th {\n",
       "        text-align: left;\n",
       "    }\n",
       "\n",
       "    .dataframe tbody tr th {\n",
       "        vertical-align: top;\n",
       "    }\n",
       "</style>\n",
       "<table border=\"1\" class=\"dataframe\">\n",
       "  <thead>\n",
       "    <tr style=\"text-align: right;\">\n",
       "      <th></th>\n",
       "      <th>address</th>\n",
       "      <th>email</th>\n",
       "      <th>fb</th>\n",
       "      <th>lat</th>\n",
       "      <th>link</th>\n",
       "      <th>long</th>\n",
       "      <th>name</th>\n",
       "      <th>phone</th>\n",
       "      <th>site</th>\n",
       "      <th>structure</th>\n",
       "    </tr>\n",
       "  </thead>\n",
       "  <tbody>\n",
       "    <tr>\n",
       "      <th>0</th>\n",
       "      <td>Адрес:Россия, Мурманская область, г. Мурманск,...</td>\n",
       "      <td>oksana.artemenko@mail.ru</td>\n",
       "      <td>NaN</td>\n",
       "      <td>69.025935</td>\n",
       "      <td>http://map.patriarhia.ru/?infoid=32421</td>\n",
       "      <td>33.082167</td>\n",
       "      <td>Мурманская епархия</td>\n",
       "      <td>NaN</td>\n",
       "      <td>https://vk.com/hramvladimira</td>\n",
       "      <td>Кандалакшское благочиние, Ковдорское благочини...</td>\n",
       "    </tr>\n",
       "    <tr>\n",
       "      <th>1</th>\n",
       "      <td>Адрес:Украина, г. Киев, ул. Лаврская, 15, корп...</td>\n",
       "      <td>presschurch@gmail.com</td>\n",
       "      <td>NaN</td>\n",
       "      <td>50.432043</td>\n",
       "      <td>http://map.patriarhia.ru/?infoid=2738</td>\n",
       "      <td>30.561857</td>\n",
       "      <td>Украинская Православная Церковь</td>\n",
       "      <td>(10-380-44) 255-12-13</td>\n",
       "      <td>NaN</td>\n",
       "      <td>Александрийская епархия, Балтская епархия, Бел...</td>\n",
       "    </tr>\n",
       "    <tr>\n",
       "      <th>2</th>\n",
       "      <td>Адрес:Москва, Даниловский вал, 22, здание Отде...</td>\n",
       "      <td>NaN</td>\n",
       "      <td>NaN</td>\n",
       "      <td>55.710849</td>\n",
       "      <td>http://map.patriarhia.ru/?infoid=4231</td>\n",
       "      <td>37.627849</td>\n",
       "      <td>Зарубежные учреждения Московского Патриархата</td>\n",
       "      <td>NaN</td>\n",
       "      <td>NaN</td>\n",
       "      <td>Администрация Русской Православной Церкви в Ит...</td>\n",
       "    </tr>\n",
       "    <tr>\n",
       "      <th>3</th>\n",
       "      <td>Адрес:214000, г. Смоленск, Соборный двор, 17</td>\n",
       "      <td>eparxysmolensk@mail.ru</td>\n",
       "      <td>NaN</td>\n",
       "      <td>54.782526</td>\n",
       "      <td>http://map.patriarhia.ru/?infoid=24076</td>\n",
       "      <td>32.044128</td>\n",
       "      <td>Смоленская митрополия</td>\n",
       "      <td>+7 (4812) 38-01-97, факс: +7 4812 38-19-28</td>\n",
       "      <td>http://smoleparh.ru/</td>\n",
       "      <td>Вяземская епархия, Рославльская епархия, Смоле...</td>\n",
       "    </tr>\n",
       "    <tr>\n",
       "      <th>4</th>\n",
       "      <td>Адрес:г. Ставрополь, ул. Дзержинского, 157</td>\n",
       "      <td>krest@mail.stv.ru</td>\n",
       "      <td>https://www.facebook.com/stavropoleparhia/</td>\n",
       "      <td>45.044196</td>\n",
       "      <td>http://map.patriarhia.ru/?infoid=29675</td>\n",
       "      <td>41.961421</td>\n",
       "      <td>Ставропольская митрополия</td>\n",
       "      <td>+7 (8652) 35-51-63</td>\n",
       "      <td>http://stavropol-eparhia.ru</td>\n",
       "      <td>Георгиевская епархия, Ставропольская епархия</td>\n",
       "    </tr>\n",
       "  </tbody>\n",
       "</table>\n",
       "</div>"
      ],
      "text/plain": [
       "                                             address  \\\n",
       "0  Адрес:Россия, Мурманская область, г. Мурманск,...   \n",
       "1  Адрес:Украина, г. Киев, ул. Лаврская, 15, корп...   \n",
       "2  Адрес:Москва, Даниловский вал, 22, здание Отде...   \n",
       "3       Адрес:214000, г. Смоленск, Соборный двор, 17   \n",
       "4         Адрес:г. Ставрополь, ул. Дзержинского, 157   \n",
       "\n",
       "                      email                                          fb  \\\n",
       "0  oksana.artemenko@mail.ru                                         NaN   \n",
       "1     presschurch@gmail.com                                         NaN   \n",
       "2                       NaN                                         NaN   \n",
       "3    eparxysmolensk@mail.ru                                         NaN   \n",
       "4         krest@mail.stv.ru  https://www.facebook.com/stavropoleparhia/   \n",
       "\n",
       "         lat                                    link       long  \\\n",
       "0  69.025935  http://map.patriarhia.ru/?infoid=32421  33.082167   \n",
       "1  50.432043   http://map.patriarhia.ru/?infoid=2738  30.561857   \n",
       "2  55.710849   http://map.patriarhia.ru/?infoid=4231  37.627849   \n",
       "3  54.782526  http://map.patriarhia.ru/?infoid=24076  32.044128   \n",
       "4  45.044196  http://map.patriarhia.ru/?infoid=29675  41.961421   \n",
       "\n",
       "                                            name  \\\n",
       "0                             Мурманская епархия   \n",
       "1                Украинская Православная Церковь   \n",
       "2  Зарубежные учреждения Московского Патриархата   \n",
       "3                          Смоленская митрополия   \n",
       "4                      Ставропольская митрополия   \n",
       "\n",
       "                                        phone                          site  \\\n",
       "0                                         NaN  https://vk.com/hramvladimira   \n",
       "1                       (10-380-44) 255-12-13                           NaN   \n",
       "2                                         NaN                           NaN   \n",
       "3  +7 (4812) 38-01-97, факс: +7 4812 38-19-28          http://smoleparh.ru/   \n",
       "4                          +7 (8652) 35-51-63   http://stavropol-eparhia.ru   \n",
       "\n",
       "                                           structure  \n",
       "0  Кандалакшское благочиние, Ковдорское благочини...  \n",
       "1  Александрийская епархия, Балтская епархия, Бел...  \n",
       "2  Администрация Русской Православной Церкви в Ит...  \n",
       "3  Вяземская епархия, Рославльская епархия, Смоле...  \n",
       "4       Георгиевская епархия, Ставропольская епархия  "
      ]
     },
     "execution_count": 212,
     "metadata": {},
     "output_type": "execute_result"
    }
   ],
   "source": [
    "pd.DataFrame(final)"
   ]
  },
  {
   "cell_type": "code",
   "execution_count": 200,
   "metadata": {
    "collapsed": true
   },
   "outputs": [],
   "source": [
    "def getMapObjectData(current_object):\n",
    "    \"\"\"\n",
    "        Parse data of a map object, return dict with values\n",
    "        \n",
    "        current_object: bs4.element.Tag\n",
    "            bs4 object from map\n",
    "    \"\"\"\n",
    "    data = {}\n",
    "    \n",
    "    # parsing map info\n",
    "    infoid = current_object['id']\n",
    "    lat, long = current_object['geometry']['coordinates']\n",
    "    name = current_object['properties']['hintContent']\n",
    "    \n",
    "    # moving to object page\n",
    "    current_link = 'http://map.patriarhia.ru/?infoid={}'.format(infoid)\n",
    "    data.update({\"link\":current_link, \"lat\":lat, \"long\":long, \"name\":name})\n",
    "    current_object = getSoup(current_link)\n",
    "    current_object = current_object.find('div', attrs={'class':'main'})\n",
    "    \n",
    "    # address\n",
    "    address = current_object.find('dl', attrs={'class':'addr'}).getText()\n",
    "    data.update({'address':address})\n",
    "    \n",
    "    # contact info\n",
    "    contacts = current_object.find(\"div\", attrs={'class':\"reg-info-contact\"}).findAll('dl')\n",
    "    contacts = contacts[0].findAll('dd')\n",
    "    for current_contact in contacts:\n",
    "        contact_type = current_contact.find('span').get('class')[0]\n",
    "        contact_value = current_contact.getText()\n",
    "        data.update({contact_type:contact_value})\n",
    "    \n",
    "    # dependent structure info\n",
    "    structures = current_object.find('div', attrs={'id':'parent_site_list'})\n",
    "    if structures:\n",
    "        structures = structures.findAll('h1')\n",
    "        structures = ', '.join([structure.getText().strip() for structure in structures])\n",
    "        data.update({'structure':structures})\n",
    "        \n",
    "    return data"
   ]
  },
  {
   "cell_type": "code",
   "execution_count": 204,
   "metadata": {},
   "outputs": [
    {
     "data": {
      "text/plain": [
       "{'address': 'Адрес:Новосибирская область, г. Карасук, ул. Октябрьская, 31',\n",
       " 'email': 'pravkarasuk@mail.ru',\n",
       " 'lat': 53.7317931,\n",
       " 'link': 'http://map.patriarhia.ru/?infoid=7273',\n",
       " 'long': 78.0514057,\n",
       " 'name': 'Карасукская епархия',\n",
       " 'phone': '(838355) 3-20-85, +7906 906-93-01',\n",
       " 'site': 'http://www.pravkarasuk.ru',\n",
       " 'structure': 'Восточное благочиние, Центральное благочиние'}"
      ]
     },
     "execution_count": 204,
     "metadata": {},
     "output_type": "execute_result"
    }
   ],
   "source": [
    "getMapObjectData(map_objects['features'][100])"
   ]
  },
  {
   "cell_type": "code",
   "execution_count": 179,
   "metadata": {},
   "outputs": [],
   "source": [
    "# if structures:\n",
    "#     structures_data = []\n",
    "#     structures = structures.findAll('h1')\n",
    "#     for current_structure in structures:\n",
    "#         current_structure_link = current_structure.find('a', href=True)['href']\n",
    "#         current_structure_name = current_structure.getText().strip()\n",
    "#         structures_data.append((current_structure_name, current_structure_link))"
   ]
  },
  {
   "cell_type": "code",
   "execution_count": 171,
   "metadata": {},
   "outputs": [],
   "source": []
  },
  {
   "cell_type": "code",
   "execution_count": null,
   "metadata": {
    "collapsed": true
   },
   "outputs": [],
   "source": []
  }
 ],
 "metadata": {
  "kernelspec": {
   "display_name": "Python 3",
   "language": "python",
   "name": "python3"
  },
  "language_info": {
   "codemirror_mode": {
    "name": "ipython",
    "version": 3
   },
   "file_extension": ".py",
   "mimetype": "text/x-python",
   "name": "python",
   "nbconvert_exporter": "python",
   "pygments_lexer": "ipython3",
   "version": "3.6.1"
  },
  "varInspector": {
   "cols": {
    "lenName": 16,
    "lenType": 16,
    "lenVar": 40
   },
   "kernels_config": {
    "python": {
     "delete_cmd_postfix": "",
     "delete_cmd_prefix": "del ",
     "library": "var_list.py",
     "varRefreshCmd": "print(var_dic_list())"
    },
    "r": {
     "delete_cmd_postfix": ") ",
     "delete_cmd_prefix": "rm(",
     "library": "var_list.r",
     "varRefreshCmd": "cat(var_dic_list()) "
    }
   },
   "position": {
    "height": "326px",
    "left": "939.091px",
    "right": "20px",
    "top": "120px",
    "width": "350px"
   },
   "types_to_exclude": [
    "module",
    "function",
    "builtin_function_or_method",
    "instance",
    "_Feature"
   ],
   "window_display": false
  }
 },
 "nbformat": 4,
 "nbformat_minor": 2
}
