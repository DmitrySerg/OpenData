{
 "cells": [
  {
   "cell_type": "code",
   "execution_count": 214,
   "metadata": {},
   "outputs": [
    {
     "name": "stdout",
     "output_type": "stream",
     "text": [
      "[master 627d29d] map objects function ready\n",
      " 1 file changed, 308 insertions(+), 65 deletions(-)\n",
      "Counting objects: 5, done.\n",
      "Delta compression using up to 4 threads.\n",
      "Compressing objects: 100% (3/3), done.\n",
      "Writing objects: 100% (5/5), 10.26 KiB | 0 bytes/s, done.\n",
      "Total 5 (delta 1), reused 0 (delta 0)\n",
      "remote: Resolving deltas: 100% (1/1), completed with 1 local object.\u001b[K\n",
      "To https://github.com/DmitrySerg/OpenData\n",
      "   a7fca36..627d29d  master -> master\n"
     ]
    }
   ],
   "source": [
    "!git add Parser.ipynb\n",
    "!git commit -m \"map objects function ready\"\n",
    "!git push"
   ]
  },
  {
   "cell_type": "markdown",
   "metadata": {},
   "source": [
    "## Цель\n",
    "- Собрать базу открытых данных с сайта Московской патриархии о персоналиях, организациях, богослужебных указаниях и храмах, структурировать их и загрузить в хаб открытых данных\n",
    "\n",
    "## Задача\n",
    "- проинвентаризировать данные на сайте Московской патриархии\n",
    "- написать парсеры и выгрузить данные в форматах CSV и JSON\n",
    "- загрузить данные в хаб открытых данных http://hubofdata.ru в удобном виде.\n",
    "## Требования\n",
    "- открытый исходный код в Github под свободной лицензией\n",
    "- межплатформенный код (возможность запуска на Linux/Windows)\n",
    "- предусмотреть перенос всех метаданных в CKAN в виде тегов и атрибутов\n",
    "- переносить все данные в CKAN или на отдельный хостинг (например, в Github)\n",
    "## Данные\n",
    "- Персоналии - http://www.patriarchia.ru/db/persons/\n",
    "- Организации - http://www.patriarchia.ru/db/organizations/\n",
    "- Богослужебные указания - http://www.patriarchia.ru/bu/\n",
    "- Храмы - http://map.patriarhia.ru/\n",
    "## Пожелания\n",
    "- реализация в виде программы командной строки или веб-приложения\n",
    "- возможность запуска на MacOSX\n",
    "- использовать скриптовые языки такие как Python, Perl, R и другие."
   ]
  },
  {
   "cell_type": "code",
   "execution_count": 1,
   "metadata": {
    "collapsed": true
   },
   "outputs": [],
   "source": [
    "import requests      \n",
    "import numpy as np   \n",
    "import pandas as pd  \n",
    "import time          \n",
    "from bs4 import BeautifulSoup\n",
    "\n",
    "import os\n",
    "import json\n",
    "import string\n",
    "\n",
    "from tqdm import tqdm_notebook"
   ]
  },
  {
   "cell_type": "code",
   "execution_count": 215,
   "metadata": {
    "collapsed": true
   },
   "outputs": [],
   "source": [
    "main_link = \"http://www.patriarchia.ru\"\n",
    "link_persons = \"http://www.patriarchia.ru/db/persons/\"\n",
    "link_organizations = \"http://www.patriarchia.ru/db/organizations/\"\n",
    "link_guidance = \"http://www.patriarchia.ru/bu/\"\n",
    "link_churches = \"http://map.patriarhia.ru/\"\n",
    "link_map_objects = 'http://map.patriarhia.ru/api/index.php?token=c2cbe8cd873f8e4751a7f7bb5292e68a&s=&params=[]&_=1530217371426'\n",
    "\n",
    "file_path = os.getcwd() + \"/data/{}\""
   ]
  },
  {
   "cell_type": "code",
   "execution_count": 3,
   "metadata": {
    "code_folding": [],
    "collapsed": true
   },
   "outputs": [],
   "source": [
    "class Parser:\n",
    "    \n",
    "    def __init__(self):\n",
    "        pass\n",
    "    \n",
    "    def getSoup(self, link):\n",
    "        \"\"\"\n",
    "            Returns bs4-formatted page\n",
    "        \"\"\"\n",
    "        html = requests.get(link)\n",
    "        if html.status_code == 200:\n",
    "            soup = BeautifulSoup(html.content, 'lxml')\n",
    "        else:\n",
    "            soup = None\n",
    "        return soup\n",
    "    \n",
    "    def getAllLinks(self, dataset_type, url=None):\n",
    "        \"\"\"\n",
    "            Returns a list with names, links and affiliations for persons and organizations;\n",
    "            dates for guidance or map objects\n",
    "\n",
    "            dataset_type: string\n",
    "                persons/organizations/guidance/map\n",
    "                \n",
    "            url: string\n",
    "                url to parse data from\n",
    "        \"\"\"\n",
    "        \n",
    "        if dataset_type=='guidance':\n",
    "            datelist = pd.date_range(\n",
    "                pd.to_datetime(start_date), end=pd.to_datetime(end_date)\n",
    "            ).tolist()\n",
    "            datelist = [date.strftime(\"%Y-%m-%d\") for date in datelist]\n",
    "            return datelist\n",
    "        \n",
    "        if dataset_type=='map':\n",
    "            map_objects = requests.get(link_map_objects)\n",
    "            map_objects = map_objects.content\n",
    "            map_objects = json.loads(map_objects)['features']\n",
    "            return map_objects\n",
    "\n",
    "        links = getSoup(url)\n",
    "        links = links.find('div', attrs={\"class\":\"main\"})\n",
    "        links = links.findAll('div', attrs={'class':'news'})\n",
    "\n",
    "        dfLinks = []\n",
    "        for link in links:\n",
    "            name = link.find('h4').text\n",
    "            linkParsed = main_link + link.find('a')['href']\n",
    "            affiliation = link.find('div').text\n",
    "            dfLinks.append({\"name\":name, \"link\":linkParsed, \"affiliation\":affiliation})\n",
    "\n",
    "        return dfLinks\n",
    "\n",
    "    def getPageData(link):\n",
    "        \"\"\"\n",
    "            Returns a dict with parsed field:value pairs from page\n",
    "\n",
    "            link: string\n",
    "                link to page\n",
    "        \"\"\"\n",
    "\n",
    "        data = {}\n",
    "\n",
    "        # use printing version of page \n",
    "        link = link.replace(\"text\", \"print\")\n",
    "\n",
    "        # first - get the page content\n",
    "        pageContent = getSoup(link)\n",
    "\n",
    "        # trying to find any images\n",
    "        try:\n",
    "            image_link = pageContent.find('div', attrs={'class':'news_img'})\n",
    "            image_link = image_link.find('img')['src']\n",
    "            data.update({'image_link':image_link})\n",
    "        except:\n",
    "            pass\n",
    "\n",
    "        # now concentrate on text\n",
    "        pageContent = pageContent.find('div', attrs={'class':'main'})\n",
    "        pageContent = pageContent.findAll(\"dl\")\n",
    "\n",
    "        # second - find all field-value pairs on page\n",
    "        for text in pageContent:        \n",
    "            number_of_fields = len(text.findAll('dt'))*2-1\n",
    "            if number_of_fields>0:\n",
    "                parsedFields = []\n",
    "                currentValue = text.find('dt')\n",
    "                parsedFields.append(' '.join(currentValue.findAll(text=True)).strip().replace(u'\\xa0', u' '))\n",
    "\n",
    "                while number_of_fields>0:\n",
    "                    currentValue = currentValue.nextSibling\n",
    "                    if currentValue != '\\n':\n",
    "                        value = ' '.join(currentValue.findAll(text=True)).strip().replace(u'\\xa0', u' ')\n",
    "                        if value:\n",
    "                            parsedFields.append(value)\n",
    "                            number_of_fields -= 1\n",
    "\n",
    "                text = dict(zip(parsedFields[::2], parsedFields[1::2]))\n",
    "                data.update(text)\n",
    "\n",
    "        return data\n",
    "    \n",
    "    def getGuidanceData(date):\n",
    "        \"\"\"\n",
    "            Returns dict with name:text pair for particular day\n",
    "        \"\"\"\n",
    "        link = link_guidance + date + '/print.html'\n",
    "        pageContent = getSoup(link)\n",
    "        pageContent = pageContent.find('div', attrs={'class':'main'})\n",
    "        pageContent = pageContent.findAll('p')\n",
    "\n",
    "        name = pageContent[0].getText().strip()\n",
    "        pageContent = [paragraph.getText() for paragraph in pageContent[1:]]\n",
    "        text = \"\\n\".join(pageContent)\n",
    "        data = {'date':date, 'name':name, 'text':text}\n",
    "\n",
    "        return data\n",
    "    \n",
    "    def getMapObjectData(current_object):\n",
    "        \"\"\"\n",
    "            Parse data of a map object, return dict with values\n",
    "\n",
    "            current_object: bs4.element.Tag\n",
    "                bs4 object from map\n",
    "        \"\"\"\n",
    "        data = {}\n",
    "\n",
    "        # parsing map info\n",
    "        infoid = current_object['id']\n",
    "        lat, long = current_object['geometry']['coordinates']\n",
    "        name = current_object['properties']['hintContent']\n",
    "\n",
    "        # moving to object page\n",
    "        current_link = 'http://map.patriarhia.ru/?infoid={}'.format(infoid)\n",
    "        data.update({\"link\":current_link, \"lat\":lat, \"long\":long, \"name\":name})\n",
    "        current_object = getSoup(current_link)\n",
    "        current_object = current_object.find('div', attrs={'class':'main'})\n",
    "\n",
    "        # address\n",
    "        address = current_object.find('dl', attrs={'class':'addr'})\n",
    "        if address:\n",
    "            data.update({'address':address.getText()})\n",
    "\n",
    "        # contact info\n",
    "        contacts = current_object.find(\"div\", attrs={'class':\"reg-info-contact\"}).findAll('dl')\n",
    "        contacts = contacts[0].findAll('dd')\n",
    "        for current_contact in contacts:\n",
    "            contact_type = current_contact.find('span').get('class')[0]\n",
    "            contact_value = current_contact.getText()\n",
    "            data.update({contact_type:contact_value})\n",
    "\n",
    "        # dependent structure info\n",
    "        structures = current_object.find('div', attrs={'id':'parent_site_list'})\n",
    "        if structures:\n",
    "            structures = structures.findAll('h1')\n",
    "            structures = ', '.join([structure.getText().strip() for structure in structures])\n",
    "            data.update({'structure':structures})\n",
    "\n",
    "        return data\n",
    "    \n",
    "    def saveDataFrame(self, final, dataset_type):\n",
    "        \"\"\"\n",
    "            Save final file into csv and json files\n",
    "            \n",
    "            final: list\n",
    "                parsed data from pages\n",
    "                \n",
    "            dataset_type: string\n",
    "                persons or organizations\n",
    "        \"\"\"\n",
    "        \n",
    "        df = pd.DataFrame(final)\n",
    "        df.columns = df.columns.str.strip(':')\n",
    "        \n",
    "        if dataset_type==\"persons\":\n",
    "            csv_path = file_path.format(\"persons.csv\")\n",
    "            json_path = file_path.format(\"persons.json\")\n",
    "            column_names = ['name','affiliation','Страна','Дата рождения', \n",
    "                           'Дата пострига','Дата хиротонии', 'Дата смерти',\n",
    "                           'День ангела', 'Епархия', 'Место работы', 'Образование', \n",
    "                           'Биография', 'Награды', 'Научные труды, публикации', \n",
    "                           'E-mail', 'Web-сайт', 'link', 'image_link']\n",
    "            df = df[column_names]\n",
    "        elif dataset_type==\"organizations\":\n",
    "            csv_path = file_path.format(\"organizations.csv\")\n",
    "            json_path = file_path.format(\"organizations.json\")\n",
    "        elif dataset_type==\"map\":\n",
    "            csv_path = file_path.format(\"map_objects.csv\")\n",
    "            json_path = file_path.format(\"map_objects.json\")\n",
    "        else:\n",
    "            csv_path = file_path.format(\"guidance.csv\")\n",
    "            json_path = file_path.format(\"guidance.json\")\n",
    "        \n",
    "        df.to_csv(csv_path, encoding='utf8')\n",
    "        df.to_json(json_path)\n",
    "            \n",
    "    def runCrawler(self, links_data, dataset_type='other'):\n",
    "        \"\"\"\n",
    "            Iterate over all links in links_data and return final dataset\n",
    "            \n",
    "            links_data: list\n",
    "                list with links to pages\n",
    "            \n",
    "            dataset_type: string\n",
    "                guidance/map or other\n",
    "        \"\"\"\n",
    "        final = []\n",
    "\n",
    "        for page in tqdm_notebook(links_data):\n",
    "            try:\n",
    "                if dataset_type=='guidance':\n",
    "                    currentDateData = self.getGuidanceData(page)\n",
    "                    final.append(currentDateData)\n",
    "                elif dataset_type=='map':\n",
    "                    object_data = getMapObjectData(page)\n",
    "                    final.append(object_data)\n",
    "                else:\n",
    "                    data = self.getPageData(page['link'])\n",
    "                    page.update(data)\n",
    "                    final.append(page)\n",
    "                time.sleep(0.5)\n",
    "            except Exception as e:\n",
    "                # print(e)                           # DEBUG\n",
    "                # print('problem',  page['link'])  # DEBUG\n",
    "                time.sleep(30)\n",
    "                \n",
    "        return final\n",
    "        \n",
    "    \n",
    "    def runParsing(self, dataset_type):\n",
    "        \n",
    "        if dataset_type=='persons':\n",
    "            link = link_persons\n",
    "        elif dataset_type=='organizations':\n",
    "            link = link_organizations\n",
    "        else:\n",
    "            pass\n",
    "        \n",
    "        allLinks = self.getAllLinks(dataset_type, link)\n",
    "        data = self.runCrawler(allLinks, dataset_type)\n",
    "        self.saveDataFrame(data, dataset_type)"
   ]
  },
  {
   "cell_type": "code",
   "execution_count": 451,
   "metadata": {},
   "outputs": [
    {
     "data": {
      "application/vnd.jupyter.widget-view+json": {
       "model_id": "cdfa898619ba44c0bbb450b93828b193"
      }
     },
     "metadata": {},
     "output_type": "display_data"
    },
    {
     "name": "stdout",
     "output_type": "stream",
     "text": [
      "\n"
     ]
    }
   ],
   "source": [
    "parser = Parser()\n",
    "parser.runParsing('persons')\n",
    "parser.runParsing('organizations')\n",
    "parser.runParsing('guidance')\n",
    "parser.runParsing('map')"
   ]
  },
  {
   "cell_type": "code",
   "execution_count": 4,
   "metadata": {
    "code_folding": [
     0,
     11,
     32
    ],
    "collapsed": true
   },
   "outputs": [],
   "source": [
    "def getSoup(link):\n",
    "    \"\"\"\n",
    "        Returns bs4-formatted page\n",
    "    \"\"\"\n",
    "    html = requests.get(link)\n",
    "    if html.status_code == 200:\n",
    "        soup = BeautifulSoup(html.content, 'lxml')\n",
    "    else:\n",
    "        soup = None\n",
    "    return soup\n",
    "\n",
    "def getAllLinks(url):\n",
    "    \"\"\"\n",
    "        Returns a list with names, links and affiliations    \n",
    "        \n",
    "        url: string\n",
    "            url to parse data from\n",
    "    \"\"\"\n",
    "    \n",
    "    links = getSoup(url)\n",
    "    links = links.find('div', attrs={\"class\":\"main\"})\n",
    "    links = links.findAll('div', attrs={'class':'news'})\n",
    "    \n",
    "    dfLinks = []\n",
    "    for link in links:\n",
    "        name = link.find('h4').text\n",
    "        linkParsed = main_link + link.find('a')['href']\n",
    "        affiliation = link.find('div').text\n",
    "        dfLinks.append({\"name\":name, \"link\":linkParsed, \"affiliation\":affiliation})\n",
    "        \n",
    "    return dfLinks\n",
    "\n",
    "def getPageData(link):\n",
    "    \"\"\"\n",
    "        Returns a dict with parsed field:value pairs from page\n",
    "    \n",
    "        link: string\n",
    "            link to page\n",
    "    \"\"\"\n",
    "    \n",
    "    data = {}\n",
    "    \n",
    "    # use printing version of page \n",
    "    if 'text' in link:\n",
    "        link = link.replace(\"text\", \"print\")\n",
    "    \n",
    "    # first - get the page content\n",
    "    pageContent = getSoup(link)\n",
    "    \n",
    "    # trying to find any images\n",
    "    try:\n",
    "        image_link = pageContent.find('div', attrs={'class':'news_img'})\n",
    "        image_link = image_link.find('img')['src']\n",
    "        data.update({'image_link':image_link})\n",
    "    except:\n",
    "        pass\n",
    "    \n",
    "    # now concentrate on text\n",
    "    pageContent = pageContent.find('div', attrs={'class':'main'})\n",
    "    pageContent = pageContent.findAll(\"dl\")\n",
    "\n",
    "    # second - find all field-value pairs on page\n",
    "    for text in pageContent:        \n",
    "        number_of_fields = len(text.findAll('dt'))*2-1\n",
    "        if number_of_fields>0:\n",
    "            parsedFields = []\n",
    "            currentValue = text.find('dt')\n",
    "            parsedFields.append(' '.join(currentValue.findAll(text=True)).strip().replace(u'\\xa0', u' '))\n",
    "\n",
    "            while number_of_fields>0:\n",
    "                currentValue = currentValue.nextSibling\n",
    "                if currentValue != '\\n':\n",
    "                    value = ' '.join(currentValue.findAll(text=True)).strip().replace(u'\\xa0', u' ')\n",
    "                    if value:\n",
    "                        parsedFields.append(value)\n",
    "                        number_of_fields -= 1\n",
    "\n",
    "            text = dict(zip(parsedFields[::2], parsedFields[1::2]))\n",
    "            data.update(text)\n",
    "            \n",
    "    return data"
   ]
  },
  {
   "cell_type": "code",
   "execution_count": 440,
   "metadata": {},
   "outputs": [
    {
     "data": {
      "application/vnd.jupyter.widget-view+json": {
       "model_id": "0f9d4d751f29491aacaefea47cbd1c6c"
      }
     },
     "metadata": {},
     "output_type": "display_data"
    },
    {
     "name": "stdout",
     "output_type": "stream",
     "text": [
      "\n",
      "\n"
     ]
    }
   ],
   "source": [
    "final = []\n",
    "for page in tqdm_notebook(dfOrganizations):\n",
    "    try:\n",
    "        data = getPageData(page['link'])\n",
    "        page.update(data)\n",
    "        final.append(page)\n",
    "        time.sleep(0.6)\n",
    "    except Exception as e:\n",
    "        # print(e)                           # DEBUG\n",
    "        # print('problem',  person['link'])  # DEBUG\n",
    "        time.sleep(30)"
   ]
  },
  {
   "cell_type": "code",
   "execution_count": 497,
   "metadata": {
    "collapsed": true
   },
   "outputs": [],
   "source": [
    "start_date = '2009-01-14'\n",
    "end_date = '2019-01-13'"
   ]
  },
  {
   "cell_type": "code",
   "execution_count": 505,
   "metadata": {},
   "outputs": [
    {
     "data": {
      "application/vnd.jupyter.widget-view+json": {
       "model_id": "3aab705e94e642cdad17660996a5dde9"
      }
     },
     "metadata": {},
     "output_type": "display_data"
    },
    {
     "name": "stdout",
     "output_type": "stream",
     "text": [
      "'NoneType' object has no attribute 'find'\n",
      "problem http://www.patriarchia.ru/db/text/80876.html\n",
      "'NoneType' object has no attribute 'find'\n",
      "problem http://www.patriarchia.ru/db/text/80876.html\n",
      "\n"
     ]
    }
   ],
   "source": [
    "final = []\n",
    "for date in tqdm_notebook(datelist):\n",
    "    try:\n",
    "        currentDateData = getGuidanceData(date)\n",
    "        final.append(currentDateData)\n",
    "        time.sleep(0.5)\n",
    "    except Exception as e:\n",
    "        print(e)                           # DEBUG\n",
    "        print('problem',  date)  # DEBUG\n",
    "        time.sleep(30)"
   ]
  },
  {
   "cell_type": "code",
   "execution_count": 506,
   "metadata": {
    "collapsed": true
   },
   "outputs": [],
   "source": [
    "df = pd.DataFrame(final)"
   ]
  },
  {
   "cell_type": "code",
   "execution_count": 513,
   "metadata": {},
   "outputs": [
    {
     "data": {
      "text/html": [
       "<div>\n",
       "<style>\n",
       "    .dataframe thead tr:only-child th {\n",
       "        text-align: right;\n",
       "    }\n",
       "\n",
       "    .dataframe thead th {\n",
       "        text-align: left;\n",
       "    }\n",
       "\n",
       "    .dataframe tbody tr th {\n",
       "        vertical-align: top;\n",
       "    }\n",
       "</style>\n",
       "<table border=\"1\" class=\"dataframe\">\n",
       "  <thead>\n",
       "    <tr style=\"text-align: right;\">\n",
       "      <th></th>\n",
       "      <th>name</th>\n",
       "      <th>text</th>\n",
       "    </tr>\n",
       "  </thead>\n",
       "  <tbody>\n",
       "    <tr>\n",
       "      <th>0</th>\n",
       "      <td>Среда. Обре́зание Господне. Свт. Василия Велик...</td>\n",
       "      <td>Примечание. В Типиконе сказано: «А́ще храм свя...</td>\n",
       "    </tr>\n",
       "    <tr>\n",
       "      <th>1</th>\n",
       "      <td>Четверг. Предпразднство Богоявления. Прп. Сера...</td>\n",
       "      <td>Свт. Сильве́стра, папы Римского. Прав. Иулиани...</td>\n",
       "    </tr>\n",
       "    <tr>\n",
       "      <th>2</th>\n",
       "      <td>Пятница. Предпразднство Богоявления. Прор. Мал...</td>\n",
       "      <td>Служба прор. Малахии и мч. Гордия не имеет пра...</td>\n",
       "    </tr>\n",
       "    <tr>\n",
       "      <th>3</th>\n",
       "      <td>Суббота пред Богоявлением. Предпразднство Бого...</td>\n",
       "      <td>Свт. Евста́фия, архиеп. Сербского.\\nПрп. Ахи́л...</td>\n",
       "    </tr>\n",
       "    <tr>\n",
       "      <th>4</th>\n",
       "      <td>Неделя 31-я по Пятидесятнице, пред Богоявление...</td>\n",
       "      <td>Прп. Синклитики́и Александрийской.\\nВоскресная...</td>\n",
       "    </tr>\n",
       "  </tbody>\n",
       "</table>\n",
       "</div>"
      ],
      "text/plain": [
       "                                                name  \\\n",
       "0  Среда. Обре́зание Господне. Свт. Василия Велик...   \n",
       "1  Четверг. Предпразднство Богоявления. Прп. Сера...   \n",
       "2  Пятница. Предпразднство Богоявления. Прор. Мал...   \n",
       "3  Суббота пред Богоявлением. Предпразднство Бого...   \n",
       "4  Неделя 31-я по Пятидесятнице, пред Богоявление...   \n",
       "\n",
       "                                                text  \n",
       "0  Примечание. В Типиконе сказано: «А́ще храм свя...  \n",
       "1  Свт. Сильве́стра, папы Римского. Прав. Иулиани...  \n",
       "2  Служба прор. Малахии и мч. Гордия не имеет пра...  \n",
       "3  Свт. Евста́фия, архиеп. Сербского.\\nПрп. Ахи́л...  \n",
       "4  Прп. Синклитики́и Александрийской.\\nВоскресная...  "
      ]
     },
     "execution_count": 513,
     "metadata": {},
     "output_type": "execute_result"
    }
   ],
   "source": [
    "df.head()"
   ]
  },
  {
   "cell_type": "code",
   "execution_count": 508,
   "metadata": {
    "collapsed": true
   },
   "outputs": [],
   "source": [
    "df.to_csv('data/guidance.csv', encoding='utf8')\n",
    "df.to_json('data/guidance.json')"
   ]
  },
  {
   "cell_type": "code",
   "execution_count": 5,
   "metadata": {
    "code_folding": [
     0
    ],
    "collapsed": true
   },
   "outputs": [],
   "source": [
    "def getGuidanceData(date):\n",
    "    \"\"\"\n",
    "        Returns dict with name:text pair for particular day\n",
    "    \"\"\"\n",
    "    link = link_guidance + date + '/print.html'\n",
    "    pageContent = getSoup(link)\n",
    "    pageContent = pageContent.find('div', attrs={'class':'main'})\n",
    "    pageContent = pageContent.findAll('p')\n",
    "    \n",
    "    name = pageContent[0].getText().strip()\n",
    "    pageContent = [paragraph.getText() for paragraph in pageContent[1:]]\n",
    "    text = \"\\n\".join(pageContent)\n",
    "    data = {'date':date, 'name':name, 'text':text}\n",
    "    \n",
    "    return data"
   ]
  },
  {
   "cell_type": "code",
   "execution_count": 236,
   "metadata": {
    "code_folding": [],
    "collapsed": true
   },
   "outputs": [],
   "source": [
    "def getMapObjectData(current_object):\n",
    "    \"\"\"\n",
    "        Parse data of a map object, return dict with values\n",
    "        \n",
    "        current_object: bs4.element.Tag\n",
    "            bs4 object from map\n",
    "    \"\"\"\n",
    "    data = {}\n",
    "    try:\n",
    "        # parsing map info\n",
    "        infoid = current_object['id']\n",
    "        lat, long = current_object['geometry']['coordinates']\n",
    "        name = current_object['properties']['hintContent']\n",
    "\n",
    "        # moving to object page\n",
    "        current_link = 'http://map.patriarhia.ru/?infoid={}'.format(infoid)\n",
    "        data.update({\"link\":current_link, \"lat\":lat, \"long\":long, \"name\":name})\n",
    "        current_object = getSoup(current_link)\n",
    "        current_object = current_object.find('div', attrs={'class':'main'})\n",
    "\n",
    "        # address\n",
    "        address = current_object.find('dl', attrs={'class':'addr'})\n",
    "        if address:\n",
    "            data.update({'address':address.getText()})\n",
    "\n",
    "        # contact info\n",
    "        contacts = current_object.find(\"div\", attrs={'class':\"reg-info-contact\"}).findAll('dl')\n",
    "        contacts = contacts[0].findAll('dd')\n",
    "        for current_contact in contacts:\n",
    "            contact_type = current_contact.find('span').get('class')[0]\n",
    "            contact_value = current_contact.getText()\n",
    "            data.update({contact_type:contact_value})\n",
    "\n",
    "        # dependent structure info\n",
    "        structures = current_object.find('div', attrs={'id':'parent_site_list'})\n",
    "        if structures:\n",
    "            structures = structures.findAll('h1')\n",
    "            structures = ', '.join([structure.getText().strip() for structure in structures])\n",
    "            data.update({'structure':structures})\n",
    "    except:\n",
    "        pass\n",
    "    return data"
   ]
  },
  {
   "cell_type": "code",
   "execution_count": 237,
   "metadata": {
    "collapsed": true
   },
   "outputs": [],
   "source": [
    "from joblib import Parallel, delayed\n",
    "n_jobs = 4"
   ]
  },
  {
   "cell_type": "code",
   "execution_count": 238,
   "metadata": {},
   "outputs": [
    {
     "data": {
      "application/vnd.jupyter.widget-view+json": {
       "model_id": "4d0553d53145455ea3566a74952bd8d2"
      }
     },
     "metadata": {},
     "output_type": "display_data"
    },
    {
     "name": "stdout",
     "output_type": "stream",
     "text": [
      "\n"
     ]
    }
   ],
   "source": [
    "final = Parallel(n_jobs=n_jobs)(\n",
    "    delayed(\n",
    "        getMapObjectData\n",
    "    )(current_object) for current_object in tqdm_notebook(map_objects['features'])\n",
    ")"
   ]
  },
  {
   "cell_type": "code",
   "execution_count": 241,
   "metadata": {},
   "outputs": [
    {
     "data": {
      "text/plain": [
       "(19815, 18)"
      ]
     },
     "execution_count": 241,
     "metadata": {},
     "output_type": "execute_result"
    }
   ],
   "source": [
    "df.shape"
   ]
  },
  {
   "cell_type": "code",
   "execution_count": 242,
   "metadata": {},
   "outputs": [
    {
     "data": {
      "text/html": [
       "<div>\n",
       "<style>\n",
       "    .dataframe thead tr:only-child th {\n",
       "        text-align: right;\n",
       "    }\n",
       "\n",
       "    .dataframe thead th {\n",
       "        text-align: left;\n",
       "    }\n",
       "\n",
       "    .dataframe tbody tr th {\n",
       "        vertical-align: top;\n",
       "    }\n",
       "</style>\n",
       "<table border=\"1\" class=\"dataframe\">\n",
       "  <thead>\n",
       "    <tr style=\"text-align: right;\">\n",
       "      <th></th>\n",
       "      <th>address</th>\n",
       "      <th>elitsy</th>\n",
       "      <th>email</th>\n",
       "      <th>fb</th>\n",
       "      <th>gplus</th>\n",
       "      <th>instagram</th>\n",
       "      <th>lat</th>\n",
       "      <th>link</th>\n",
       "      <th>long</th>\n",
       "      <th>name</th>\n",
       "      <th>ok</th>\n",
       "      <th>phone</th>\n",
       "      <th>site</th>\n",
       "      <th>skype</th>\n",
       "      <th>structure</th>\n",
       "      <th>twitter</th>\n",
       "      <th>vk</th>\n",
       "      <th>youtube</th>\n",
       "    </tr>\n",
       "  </thead>\n",
       "  <tbody>\n",
       "    <tr>\n",
       "      <th>0</th>\n",
       "      <td>Адрес:Россия, Мурманская область, г. Мурманск,...</td>\n",
       "      <td>NaN</td>\n",
       "      <td>oksana.artemenko@mail.ru</td>\n",
       "      <td>NaN</td>\n",
       "      <td>NaN</td>\n",
       "      <td>NaN</td>\n",
       "      <td>69.025935</td>\n",
       "      <td>http://map.patriarhia.ru/?infoid=32421</td>\n",
       "      <td>33.082167</td>\n",
       "      <td>Мурманская епархия</td>\n",
       "      <td>NaN</td>\n",
       "      <td>NaN</td>\n",
       "      <td>https://vk.com/hramvladimira</td>\n",
       "      <td>NaN</td>\n",
       "      <td>Кандалакшское благочиние, Ковдорское благочини...</td>\n",
       "      <td>NaN</td>\n",
       "      <td>NaN</td>\n",
       "      <td>NaN</td>\n",
       "    </tr>\n",
       "    <tr>\n",
       "      <th>1</th>\n",
       "      <td>Адрес:Украина, г. Киев, ул. Лаврская, 15, корп...</td>\n",
       "      <td>NaN</td>\n",
       "      <td>presschurch@gmail.com</td>\n",
       "      <td>NaN</td>\n",
       "      <td>NaN</td>\n",
       "      <td>NaN</td>\n",
       "      <td>50.432043</td>\n",
       "      <td>http://map.patriarhia.ru/?infoid=2738</td>\n",
       "      <td>30.561857</td>\n",
       "      <td>Украинская Православная Церковь</td>\n",
       "      <td>NaN</td>\n",
       "      <td>(10-380-44) 255-12-13</td>\n",
       "      <td>NaN</td>\n",
       "      <td>NaN</td>\n",
       "      <td>Александрийская епархия, Балтская епархия, Бел...</td>\n",
       "      <td>NaN</td>\n",
       "      <td>NaN</td>\n",
       "      <td>NaN</td>\n",
       "    </tr>\n",
       "    <tr>\n",
       "      <th>2</th>\n",
       "      <td>Адрес:Москва, Даниловский вал, 22, здание Отде...</td>\n",
       "      <td>NaN</td>\n",
       "      <td>NaN</td>\n",
       "      <td>NaN</td>\n",
       "      <td>NaN</td>\n",
       "      <td>NaN</td>\n",
       "      <td>55.710849</td>\n",
       "      <td>http://map.patriarhia.ru/?infoid=4231</td>\n",
       "      <td>37.627849</td>\n",
       "      <td>Зарубежные учреждения Московского Патриархата</td>\n",
       "      <td>NaN</td>\n",
       "      <td>NaN</td>\n",
       "      <td>NaN</td>\n",
       "      <td>NaN</td>\n",
       "      <td>Администрация Русской Православной Церкви в Ит...</td>\n",
       "      <td>NaN</td>\n",
       "      <td>NaN</td>\n",
       "      <td>NaN</td>\n",
       "    </tr>\n",
       "    <tr>\n",
       "      <th>3</th>\n",
       "      <td>Адрес:214000, г. Смоленск, Соборный двор, 17</td>\n",
       "      <td>NaN</td>\n",
       "      <td>eparxysmolensk@mail.ru</td>\n",
       "      <td>NaN</td>\n",
       "      <td>NaN</td>\n",
       "      <td>NaN</td>\n",
       "      <td>54.782526</td>\n",
       "      <td>http://map.patriarhia.ru/?infoid=24076</td>\n",
       "      <td>32.044128</td>\n",
       "      <td>Смоленская митрополия</td>\n",
       "      <td>NaN</td>\n",
       "      <td>+7 (4812) 38-01-97, факс: +7 4812 38-19-28</td>\n",
       "      <td>http://smoleparh.ru/</td>\n",
       "      <td>NaN</td>\n",
       "      <td>Вяземская епархия, Рославльская епархия, Смоле...</td>\n",
       "      <td>NaN</td>\n",
       "      <td>NaN</td>\n",
       "      <td>NaN</td>\n",
       "    </tr>\n",
       "    <tr>\n",
       "      <th>4</th>\n",
       "      <td>Адрес:г. Ставрополь, ул. Дзержинского, 157</td>\n",
       "      <td>NaN</td>\n",
       "      <td>krest@mail.stv.ru</td>\n",
       "      <td>https://www.facebook.com/stavropoleparhia/</td>\n",
       "      <td>NaN</td>\n",
       "      <td>NaN</td>\n",
       "      <td>45.044196</td>\n",
       "      <td>http://map.patriarhia.ru/?infoid=29675</td>\n",
       "      <td>41.961421</td>\n",
       "      <td>Ставропольская митрополия</td>\n",
       "      <td>NaN</td>\n",
       "      <td>+7 (8652) 35-51-63</td>\n",
       "      <td>http://stavropol-eparhia.ru</td>\n",
       "      <td>NaN</td>\n",
       "      <td>Георгиевская епархия, Ставропольская епархия</td>\n",
       "      <td>NaN</td>\n",
       "      <td>NaN</td>\n",
       "      <td>NaN</td>\n",
       "    </tr>\n",
       "  </tbody>\n",
       "</table>\n",
       "</div>"
      ],
      "text/plain": [
       "                                             address elitsy  \\\n",
       "0  Адрес:Россия, Мурманская область, г. Мурманск,...    NaN   \n",
       "1  Адрес:Украина, г. Киев, ул. Лаврская, 15, корп...    NaN   \n",
       "2  Адрес:Москва, Даниловский вал, 22, здание Отде...    NaN   \n",
       "3       Адрес:214000, г. Смоленск, Соборный двор, 17    NaN   \n",
       "4         Адрес:г. Ставрополь, ул. Дзержинского, 157    NaN   \n",
       "\n",
       "                      email                                          fb gplus  \\\n",
       "0  oksana.artemenko@mail.ru                                         NaN   NaN   \n",
       "1     presschurch@gmail.com                                         NaN   NaN   \n",
       "2                       NaN                                         NaN   NaN   \n",
       "3    eparxysmolensk@mail.ru                                         NaN   NaN   \n",
       "4         krest@mail.stv.ru  https://www.facebook.com/stavropoleparhia/   NaN   \n",
       "\n",
       "  instagram        lat                                    link       long  \\\n",
       "0       NaN  69.025935  http://map.patriarhia.ru/?infoid=32421  33.082167   \n",
       "1       NaN  50.432043   http://map.patriarhia.ru/?infoid=2738  30.561857   \n",
       "2       NaN  55.710849   http://map.patriarhia.ru/?infoid=4231  37.627849   \n",
       "3       NaN  54.782526  http://map.patriarhia.ru/?infoid=24076  32.044128   \n",
       "4       NaN  45.044196  http://map.patriarhia.ru/?infoid=29675  41.961421   \n",
       "\n",
       "                                            name   ok  \\\n",
       "0                             Мурманская епархия  NaN   \n",
       "1                Украинская Православная Церковь  NaN   \n",
       "2  Зарубежные учреждения Московского Патриархата  NaN   \n",
       "3                          Смоленская митрополия  NaN   \n",
       "4                      Ставропольская митрополия  NaN   \n",
       "\n",
       "                                        phone                          site  \\\n",
       "0                                         NaN  https://vk.com/hramvladimira   \n",
       "1                       (10-380-44) 255-12-13                           NaN   \n",
       "2                                         NaN                           NaN   \n",
       "3  +7 (4812) 38-01-97, факс: +7 4812 38-19-28          http://smoleparh.ru/   \n",
       "4                          +7 (8652) 35-51-63   http://stavropol-eparhia.ru   \n",
       "\n",
       "  skype                                          structure twitter   vk  \\\n",
       "0   NaN  Кандалакшское благочиние, Ковдорское благочини...     NaN  NaN   \n",
       "1   NaN  Александрийская епархия, Балтская епархия, Бел...     NaN  NaN   \n",
       "2   NaN  Администрация Русской Православной Церкви в Ит...     NaN  NaN   \n",
       "3   NaN  Вяземская епархия, Рославльская епархия, Смоле...     NaN  NaN   \n",
       "4   NaN       Георгиевская епархия, Ставропольская епархия     NaN  NaN   \n",
       "\n",
       "  youtube  \n",
       "0     NaN  \n",
       "1     NaN  \n",
       "2     NaN  \n",
       "3     NaN  \n",
       "4     NaN  "
      ]
     },
     "execution_count": 242,
     "metadata": {},
     "output_type": "execute_result"
    }
   ],
   "source": [
    "df.head()"
   ]
  },
  {
   "cell_type": "code",
   "execution_count": 244,
   "metadata": {
    "collapsed": true
   },
   "outputs": [],
   "source": [
    "import matplotlib.pyplot as plt\n",
    "%matplotlib inline"
   ]
  },
  {
   "cell_type": "code",
   "execution_count": 249,
   "metadata": {},
   "outputs": [
    {
     "data": {
      "text/plain": [
       "6065    42864.0\n",
       "Name: lat, dtype: float64"
      ]
     },
     "execution_count": 249,
     "metadata": {},
     "output_type": "execute_result"
    }
   ],
   "source": [
    "df['lat'][df['lat']==df['lat'].max()] "
   ]
  },
  {
   "cell_type": "code",
   "execution_count": 245,
   "metadata": {},
   "outputs": [
    {
     "data": {
      "text/plain": [
       "<matplotlib.axes._subplots.AxesSubplot at 0x122e34b70>"
      ]
     },
     "execution_count": 245,
     "metadata": {},
     "output_type": "execute_result"
    },
    {
     "data": {
      "image/png": "[encoded data removed]",
      "text/plain": [
       "<matplotlib.figure.Figure at 0x122ce4550>"
      ]
     },
     "metadata": {},
     "output_type": "display_data"
    }
   ],
   "source": [
    "df[['lat', 'long']].plot.scatter(x='lat', y='long')"
   ]
  },
  {
   "cell_type": "code",
   "execution_count": 240,
   "metadata": {},
   "outputs": [],
   "source": [
    "df = pd.DataFrame(final)\n",
    "df.to_csv('data/map_objects.csv', encoding='utf8')\n",
    "df.to_json('data/map_objects.json')"
   ]
  },
  {
   "cell_type": "code",
   "execution_count": 216,
   "metadata": {},
   "outputs": [
    {
     "data": {
      "application/vnd.jupyter.widget-view+json": {
       "model_id": "bc48f0580e6f4fd3b48506adf518c45e"
      }
     },
     "metadata": {},
     "output_type": "display_data"
    },
    {
     "ename": "KeyboardInterrupt",
     "evalue": "",
     "output_type": "error",
     "traceback": [
      "\u001b[0;31m---------------------------------------------------------------------------\u001b[0m",
      "\u001b[0;31mKeyboardInterrupt\u001b[0m                         Traceback (most recent call last)",
      "\u001b[0;32m<ipython-input-216-6c21acbfe003>\u001b[0m in \u001b[0;36m<module>\u001b[0;34m()\u001b[0m\n\u001b[1;32m      8\u001b[0m         \u001b[0mobject_data\u001b[0m \u001b[0;34m=\u001b[0m \u001b[0mgetMapObjectData\u001b[0m\u001b[0;34m(\u001b[0m\u001b[0mcurrent_object\u001b[0m\u001b[0;34m)\u001b[0m\u001b[0;34m\u001b[0m\u001b[0m\n\u001b[1;32m      9\u001b[0m         \u001b[0mfinal\u001b[0m\u001b[0;34m.\u001b[0m\u001b[0mappend\u001b[0m\u001b[0;34m(\u001b[0m\u001b[0mobject_data\u001b[0m\u001b[0;34m)\u001b[0m\u001b[0;34m\u001b[0m\u001b[0m\n\u001b[0;32m---> 10\u001b[0;31m         \u001b[0mtime\u001b[0m\u001b[0;34m.\u001b[0m\u001b[0msleep\u001b[0m\u001b[0;34m(\u001b[0m\u001b[0;36m0.5\u001b[0m\u001b[0;34m)\u001b[0m\u001b[0;34m\u001b[0m\u001b[0m\n\u001b[0m\u001b[1;32m     11\u001b[0m     \u001b[0;32mexcept\u001b[0m \u001b[0mException\u001b[0m \u001b[0;32mas\u001b[0m \u001b[0me\u001b[0m\u001b[0;34m:\u001b[0m\u001b[0;34m\u001b[0m\u001b[0m\n\u001b[1;32m     12\u001b[0m         \u001b[0mprint\u001b[0m\u001b[0;34m(\u001b[0m\u001b[0me\u001b[0m\u001b[0;34m)\u001b[0m                           \u001b[0;31m# DEBUG\u001b[0m\u001b[0;34m\u001b[0m\u001b[0m\n",
      "\u001b[0;31mKeyboardInterrupt\u001b[0m: "
     ]
    }
   ],
   "source": [
    "map_objects = requests.get(link_map_objects)\n",
    "map_objects = map_objects.content\n",
    "map_objects = json.loads(map_objects)\n",
    "\n",
    "final = []\n",
    "for current_object in tqdm_notebook(map_objects['features']):\n",
    "    try:\n",
    "        object_data = getMapObjectData(current_object)\n",
    "        final.append(object_data)\n",
    "        time.sleep(0.5)\n",
    "    except Exception as e:\n",
    "        print(e)                           # DEBUG\n",
    "        print('problem',  current_object)  # DEBUG\n",
    "        time.sleep(30)"
   ]
  },
  {
   "cell_type": "code",
   "execution_count": 179,
   "metadata": {},
   "outputs": [],
   "source": [
    "# if structures:\n",
    "#     structures_data = []\n",
    "#     structures = structures.findAll('h1')\n",
    "#     for current_structure in structures:\n",
    "#         current_structure_link = current_structure.find('a', href=True)['href']\n",
    "#         current_structure_name = current_structure.getText().strip()\n",
    "#         structures_data.append((current_structure_name, current_structure_link))"
   ]
  },
  {
   "cell_type": "code",
   "execution_count": 171,
   "metadata": {},
   "outputs": [],
   "source": []
  },
  {
   "cell_type": "code",
   "execution_count": null,
   "metadata": {
    "collapsed": true
   },
   "outputs": [],
   "source": []
  }
 ],
 "metadata": {
  "kernelspec": {
   "display_name": "Python 3",
   "language": "python",
   "name": "python3"
  },
  "language_info": {
   "codemirror_mode": {
    "name": "ipython",
    "version": 3
   },
   "file_extension": ".py",
   "mimetype": "text/x-python",
   "name": "python",
   "nbconvert_exporter": "python",
   "pygments_lexer": "ipython3",
   "version": "3.6.1"
  },
  "varInspector": {
   "cols": {
    "lenName": 16,
    "lenType": 16,
    "lenVar": 40
   },
   "kernels_config": {
    "python": {
     "delete_cmd_postfix": "",
     "delete_cmd_prefix": "del ",
     "library": "var_list.py",
     "varRefreshCmd": "print(var_dic_list())"
    },
    "r": {
     "delete_cmd_postfix": ") ",
     "delete_cmd_prefix": "rm(",
     "library": "var_list.r",
     "varRefreshCmd": "cat(var_dic_list()) "
    }
   },
   "position": {
    "height": "326px",
    "left": "939.091px",
    "right": "20px",
    "top": "120px",
    "width": "350px"
   },
   "types_to_exclude": [
    "module",
    "function",
    "builtin_function_or_method",
    "instance",
    "_Feature"
   ],
   "window_display": false
  }
 },
 "nbformat": 4,
 "nbformat_minor": 2
}
