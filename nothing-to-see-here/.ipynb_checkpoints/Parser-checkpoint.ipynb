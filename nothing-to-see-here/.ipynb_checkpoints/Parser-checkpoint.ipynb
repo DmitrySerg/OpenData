{
 "cells": [
  {
   "cell_type": "code",
   "execution_count": 219,
   "metadata": {},
   "outputs": [],
   "source": [
    "import pandas as pd\n",
    "import requests \n",
    "import time\n",
    "\n",
    "from bs4 import BeautifulSoup\n",
    "from fake_useragent import UserAgent\n",
    "\n",
    "import os"
   ]
  },
  {
   "cell_type": "code",
   "execution_count": 243,
   "metadata": {},
   "outputs": [],
   "source": [
    "class Parser:\n",
    "    def __init__(self, path='data/'):\n",
    "        self.path = path\n",
    "        self.page_url = \"https://minjust.ru/ru/extremist-materials?field_extremist_content_value=\"\n",
    "        self.main_url = self.page_url + '&page={}'\n",
    "        self.total_pages = self.__get_total_pages()\n",
    "        \n",
    "        \n",
    "    def __check_existing(self):\n",
    "        return os.path.isfile(self.path+'data.csv')\n",
    "    \n",
    "    def __get_headers(self):\n",
    "        return {'User-Agent': UserAgent().chrome}\n",
    "    \n",
    "    def __get_total_pages(self):\n",
    "        \"\"\"Returns total number of pages on the website\"\"\"\n",
    "        page = requests.get(self.page_url, headers=self.__get_headers())\n",
    "        soup = BeautifulSoup(page.content,'html.parser')\n",
    "        total_pages = soup.find(\"li\", attrs={'class': 'b-pager-last last'})\n",
    "        total_pages = int(total_pages.find('a').get('href').split('page=')[1])\n",
    "        return total_pages\n",
    "    \n",
    "    \n",
    "    def __download_full_data(self):        \n",
    "        data = []\n",
    "        for page_number in range(self.total_pages+1):\n",
    "            data.append(pd.read_html(self.main_url.format(page_number))[0])\n",
    "            time.sleep(1)\n",
    "            \n",
    "        full_data = pd.DataFrame()\n",
    "        for dataset in data:\n",
    "            full_data = full_data.append(dataset, ignore_index=True, sort=False)\n",
    "            \n",
    "        return full_data\n",
    "    \n",
    "    def __download_update_data(self):\n",
    "        data = pd.read_html(self.main_url.format(self.total_pages))[0]\n",
    "        return data\n",
    "    \n",
    "    def __process_data(self, data):\n",
    "        data.set_index(\"#\", inplace=True)\n",
    "        data.columns = ['material', 'date']\n",
    "        data.date = pd.to_datetime(data.date)\n",
    "        return data\n",
    "    \n",
    "    def __save_data(self, data):\n",
    "        print(\"Saving...\")\n",
    "        data.to_csv(self.path+'data.csv')\n",
    "    \n",
    "    def get_data(self, need_update=None):\n",
    "        if need_update is None:\n",
    "            need_update = self.__check_existing()\n",
    "            \n",
    "        if need_update:\n",
    "            print(\"Downloading update dataset...\")\n",
    "            data = self.__download_update_data()\n",
    "        else:\n",
    "            print(\"Downloading full dataset...\")\n",
    "            data = self.__download_full_data()\n",
    "            \n",
    "        data = self.__process_data(data)\n",
    "        \n",
    "        if need_update:\n",
    "            print(\"Updating...\")\n",
    "            full_data = pd.read_csv(self.path+'data.csv')\n",
    "            full_data.update(data)\n",
    "            self.__save_data(full_data)\n",
    "        else:\n",
    "            self.__save_data(data)\n",
    "        print(\"Done.\")"
   ]
  },
  {
   "cell_type": "code",
   "execution_count": 244,
   "metadata": {},
   "outputs": [],
   "source": [
    "def main():\n",
    "    dataset = Parser()\n",
    "    dataset.get_data()"
   ]
  },
  {
   "cell_type": "code",
   "execution_count": 245,
   "metadata": {},
   "outputs": [
    {
     "name": "stdout",
     "output_type": "stream",
     "text": [
      "Downloading update dataset...\n",
      "Updating...\n",
      "Saving...\n",
      "Done.\n"
     ]
    }
   ],
   "source": [
    "if __name__ == \"__main__\":\n",
    "    main()"
   ]
  },
  {
   "cell_type": "code",
   "execution_count": 195,
   "metadata": {},
   "outputs": [],
   "source": [
    "main_page = requests.get(\"https://minjust.ru/ru/extremist-materials?field_extremist_content_value=\", \n",
    "             headers={'User-Agent': UserAgent().chrome})"
   ]
  },
  {
   "cell_type": "code",
   "execution_count": 198,
   "metadata": {},
   "outputs": [],
   "source": [
    "soup = BeautifulSoup(main_page.content,'html.parser')"
   ]
  },
  {
   "cell_type": "code",
   "execution_count": 209,
   "metadata": {},
   "outputs": [],
   "source": [
    "total_pages = soup.find(\"li\", attrs={'class': 'b-pager-last last'})\n",
    "total_pages = int(total_pages.find('a').get('href').split('page=')[1])"
   ]
  },
  {
   "cell_type": "code",
   "execution_count": 132,
   "metadata": {},
   "outputs": [
    {
     "data": {
      "application/vnd.jupyter.widget-view+json": {
       "model_id": "58d539c4e8f54b889e7e5f6130c6c980",
       "version_major": 2,
       "version_minor": 0
      },
      "text/plain": [
       "HBox(children=(IntProgress(value=0, max=25), HTML(value='')))"
      ]
     },
     "metadata": {},
     "output_type": "display_data"
    }
   ],
   "source": [
    "url = 'https://minjust.ru/ru/extremist-materials?field_extremist_content_value=&page={}'\n",
    "\n",
    "data = []\n",
    "\n",
    "for page_number in range(total_pages+1):\n",
    "    data.append(pd.read_html(url.format(page_number))[0])\n",
    "    time.sleep(1)"
   ]
  },
  {
   "cell_type": "code",
   "execution_count": 150,
   "metadata": {},
   "outputs": [],
   "source": [
    "full_data = pd.DataFrame()\n",
    "\n",
    "for dataset in data:\n",
    "    full_data = full_data.append(dataset, ignore_index=True, sort=False)"
   ]
  },
  {
   "cell_type": "code",
   "execution_count": 153,
   "metadata": {},
   "outputs": [],
   "source": [
    "full_data.set_index(\"#\", inplace=True)\n",
    "full_data.columns = ['material', 'date']\n",
    "full_data.date = pd.to_datetime(full_data.date)"
   ]
  },
  {
   "cell_type": "code",
   "execution_count": 192,
   "metadata": {},
   "outputs": [],
   "source": [
    "full_data.to_csv(\"data/data.csv\", encoding='utf8')"
   ]
  },
  {
   "cell_type": "code",
   "execution_count": 165,
   "metadata": {},
   "outputs": [],
   "source": [
    "import matplotlib.pyplot as plt\n",
    "%matplotlib inline"
   ]
  },
  {
   "cell_type": "code",
   "execution_count": 167,
   "metadata": {},
   "outputs": [
    {
     "data": {
      "text/plain": [
       "[<matplotlib.lines.Line2D at 0x1205b2dd8>]"
      ]
     },
     "execution_count": 167,
     "metadata": {},
     "output_type": "execute_result"
    },
    {
     "data": {
      "image/png": "[encoded data removed]",
      "text/plain": [
       "<Figure size 1224x504 with 1 Axes>"
      ]
     },
     "metadata": {},
     "output_type": "display_data"
    }
   ],
   "source": [
    "plt.figure(figsize=(17, 7))\n",
    "plt.plot(full_data.groupby('date').count())"
   ]
  },
  {
   "cell_type": "code",
   "execution_count": 175,
   "metadata": {},
   "outputs": [
    {
     "data": {
      "text/html": [
       "<div>\n",
       "<style scoped>\n",
       "    .dataframe tbody tr th:only-of-type {\n",
       "        vertical-align: middle;\n",
       "    }\n",
       "\n",
       "    .dataframe tbody tr th {\n",
       "        vertical-align: top;\n",
       "    }\n",
       "\n",
       "    .dataframe thead th {\n",
       "        text-align: right;\n",
       "    }\n",
       "</style>\n",
       "<table border=\"1\" class=\"dataframe\">\n",
       "  <thead>\n",
       "    <tr style=\"text-align: right;\">\n",
       "      <th></th>\n",
       "      <th>material</th>\n",
       "    </tr>\n",
       "    <tr>\n",
       "      <th>date</th>\n",
       "      <th></th>\n",
       "    </tr>\n",
       "  </thead>\n",
       "  <tbody>\n",
       "    <tr>\n",
       "      <th>2018-05-12</th>\n",
       "      <td>92</td>\n",
       "    </tr>\n",
       "    <tr>\n",
       "      <th>2017-05-26</th>\n",
       "      <td>45</td>\n",
       "    </tr>\n",
       "    <tr>\n",
       "      <th>2018-02-11</th>\n",
       "      <td>41</td>\n",
       "    </tr>\n",
       "    <tr>\n",
       "      <th>2017-10-19</th>\n",
       "      <td>39</td>\n",
       "    </tr>\n",
       "    <tr>\n",
       "      <th>2017-12-15</th>\n",
       "      <td>30</td>\n",
       "    </tr>\n",
       "    <tr>\n",
       "      <th>2017-02-03</th>\n",
       "      <td>29</td>\n",
       "    </tr>\n",
       "    <tr>\n",
       "      <th>2018-07-02</th>\n",
       "      <td>28</td>\n",
       "    </tr>\n",
       "    <tr>\n",
       "      <th>2018-12-21</th>\n",
       "      <td>26</td>\n",
       "    </tr>\n",
       "    <tr>\n",
       "      <th>2018-07-12</th>\n",
       "      <td>24</td>\n",
       "    </tr>\n",
       "    <tr>\n",
       "      <th>2018-05-24</th>\n",
       "      <td>22</td>\n",
       "    </tr>\n",
       "    <tr>\n",
       "      <th>2017-10-11</th>\n",
       "      <td>21</td>\n",
       "    </tr>\n",
       "    <tr>\n",
       "      <th>2018-05-07</th>\n",
       "      <td>21</td>\n",
       "    </tr>\n",
       "    <tr>\n",
       "      <th>2018-02-28</th>\n",
       "      <td>21</td>\n",
       "    </tr>\n",
       "    <tr>\n",
       "      <th>2019-06-27</th>\n",
       "      <td>21</td>\n",
       "    </tr>\n",
       "    <tr>\n",
       "      <th>2018-11-16</th>\n",
       "      <td>19</td>\n",
       "    </tr>\n",
       "    <tr>\n",
       "      <th>2019-07-02</th>\n",
       "      <td>19</td>\n",
       "    </tr>\n",
       "    <tr>\n",
       "      <th>2019-01-22</th>\n",
       "      <td>17</td>\n",
       "    </tr>\n",
       "    <tr>\n",
       "      <th>2018-12-14</th>\n",
       "      <td>17</td>\n",
       "    </tr>\n",
       "    <tr>\n",
       "      <th>2018-11-27</th>\n",
       "      <td>17</td>\n",
       "    </tr>\n",
       "    <tr>\n",
       "      <th>2017-07-06</th>\n",
       "      <td>13</td>\n",
       "    </tr>\n",
       "  </tbody>\n",
       "</table>\n",
       "</div>"
      ],
      "text/plain": [
       "            material\n",
       "date                \n",
       "2018-05-12        92\n",
       "2017-05-26        45\n",
       "2018-02-11        41\n",
       "2017-10-19        39\n",
       "2017-12-15        30\n",
       "2017-02-03        29\n",
       "2018-07-02        28\n",
       "2018-12-21        26\n",
       "2018-07-12        24\n",
       "2018-05-24        22\n",
       "2017-10-11        21\n",
       "2018-05-07        21\n",
       "2018-02-28        21\n",
       "2019-06-27        21\n",
       "2018-11-16        19\n",
       "2019-07-02        19\n",
       "2019-01-22        17\n",
       "2018-12-14        17\n",
       "2018-11-27        17\n",
       "2017-07-06        13"
      ]
     },
     "execution_count": 175,
     "metadata": {},
     "output_type": "execute_result"
    }
   ],
   "source": [
    "full_data.groupby('date').count().sort_values(by='material', ascending=False)[:20]"
   ]
  },
  {
   "cell_type": "code",
   "execution_count": 182,
   "metadata": {},
   "outputs": [
    {
     "data": {
      "text/plain": [
       "'Музыкальный альбом \"Музыка белых\", автор - Музыкальная группа Order, решение вынесено Первомайским районным судом г. Омска от 23.11.2006;'"
      ]
     },
     "execution_count": 182,
     "metadata": {},
     "output_type": "execute_result"
    }
   ],
   "source": [
    "full_data.iloc[0].material"
   ]
  },
  {
   "cell_type": "code",
   "execution_count": 183,
   "metadata": {},
   "outputs": [
    {
     "data": {
      "text/plain": [
       "'Листовки «Обращение Хизб ат-тахрир с призывом к искренним имамам» в количестве 7 штук (решение Мещанского районного суда города Москвы от 14.07.2011).'"
      ]
     },
     "execution_count": 183,
     "metadata": {},
     "output_type": "execute_result"
    }
   ],
   "source": [
    "full_data.iloc[1000].material"
   ]
  },
  {
   "cell_type": "code",
   "execution_count": 189,
   "metadata": {},
   "outputs": [
    {
     "data": {
      "text/plain": [
       "['Листовки следующего содержания: «Долой власть ЧК-нутых Путина и Медведева», «Долой власть ЧК-нутого Путина» (',\n",
       " ' Центрального районного суда города Читы от 15.09.2011).']"
      ]
     },
     "execution_count": 189,
     "metadata": {},
     "output_type": "execute_result"
    }
   ],
   "source": [
    "full_data.material.str.split('решение')[1000]"
   ]
  },
  {
   "cell_type": "code",
   "execution_count": null,
   "metadata": {},
   "outputs": [],
   "source": []
  }
 ],
 "metadata": {
  "kernelspec": {
   "display_name": "Python 3",
   "language": "python",
   "name": "python3"
  },
  "language_info": {
   "codemirror_mode": {
    "name": "ipython",
    "version": 3
   },
   "file_extension": ".py",
   "mimetype": "text/x-python",
   "name": "python",
   "nbconvert_exporter": "python",
   "pygments_lexer": "ipython3",
   "version": "3.6.5"
  },
  "varInspector": {
   "cols": {
    "lenName": 16,
    "lenType": 16,
    "lenVar": 40
   },
   "kernels_config": {
    "python": {
     "delete_cmd_postfix": "",
     "delete_cmd_prefix": "del ",
     "library": "var_list.py",
     "varRefreshCmd": "print(var_dic_list())"
    },
    "r": {
     "delete_cmd_postfix": ") ",
     "delete_cmd_prefix": "rm(",
     "library": "var_list.r",
     "varRefreshCmd": "cat(var_dic_list()) "
    }
   },
   "types_to_exclude": [
    "module",
    "function",
    "builtin_function_or_method",
    "instance",
    "_Feature"
   ],
   "window_display": false
  }
 },
 "nbformat": 4,
 "nbformat_minor": 2
}
